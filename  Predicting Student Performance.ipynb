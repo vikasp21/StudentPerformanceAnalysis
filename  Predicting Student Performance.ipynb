{
 "cells": [
  {
   "cell_type": "code",
   "execution_count": 1,
   "id": "b0b7a164",
   "metadata": {},
   "outputs": [],
   "source": [
    "#importing packages for project as per need "
   ]
  },
  {
   "cell_type": "code",
   "execution_count": 1,
   "id": "7073f095",
   "metadata": {},
   "outputs": [],
   "source": [
    "import pandas as pd\n",
    "import numpy as np\n",
    "import matplotlib.pyplot as plt\n",
    "import seaborn as sns\n",
    "sns.set()\n",
    "#for linear regression \n",
    "\n",
    "from sklearn.model_selection import train_test_split\n",
    "from sklearn.linear_model import LinearRegression\n",
    "from sklearn.metrics import mean_squared_error\n",
    "#for decision tree\n",
    "\n",
    "from sklearn.tree import DecisionTreeClassifier\n",
    "from sklearn.metrics import accuracy_score, classification_report\n",
    "\n",
    "#Support Vector Machine\n",
    "\n",
    "from sklearn.model_selection import train_test_split\n",
    "from sklearn.svm import SVC\n",
    "from sklearn.metrics import accuracy_score\n",
    " "
   ]
  },
  {
   "cell_type": "code",
   "execution_count": 2,
   "id": "1f2606ee",
   "metadata": {},
   "outputs": [],
   "source": [
    "# importing data here and perform basic analysis "
   ]
  },
  {
   "cell_type": "code",
   "execution_count": 3,
   "id": "077ca1a4",
   "metadata": {
    "scrolled": true
   },
   "outputs": [
    {
     "data": {
      "text/html": [
       "<div>\n",
       "<style scoped>\n",
       "    .dataframe tbody tr th:only-of-type {\n",
       "        vertical-align: middle;\n",
       "    }\n",
       "\n",
       "    .dataframe tbody tr th {\n",
       "        vertical-align: top;\n",
       "    }\n",
       "\n",
       "    .dataframe thead th {\n",
       "        text-align: right;\n",
       "    }\n",
       "</style>\n",
       "<table border=\"1\" class=\"dataframe\">\n",
       "  <thead>\n",
       "    <tr style=\"text-align: right;\">\n",
       "      <th></th>\n",
       "      <th>ID</th>\n",
       "      <th>Name</th>\n",
       "      <th>Age</th>\n",
       "      <th>Scholarship</th>\n",
       "      <th>Class</th>\n",
       "      <th>CGPA 1</th>\n",
       "      <th>CGPA 2</th>\n",
       "      <th>Health</th>\n",
       "      <th>Attendance</th>\n",
       "      <th>EXA</th>\n",
       "      <th>ClassRemark</th>\n",
       "    </tr>\n",
       "  </thead>\n",
       "  <tbody>\n",
       "    <tr>\n",
       "      <th>0</th>\n",
       "      <td>48920</td>\n",
       "      <td>'Stephin K George'</td>\n",
       "      <td>20</td>\n",
       "      <td>No</td>\n",
       "      <td>BCA</td>\n",
       "      <td>6.8</td>\n",
       "      <td>7.3</td>\n",
       "      <td>None</td>\n",
       "      <td>Regular</td>\n",
       "      <td>Sports</td>\n",
       "      <td>Good</td>\n",
       "    </tr>\n",
       "    <tr>\n",
       "      <th>1</th>\n",
       "      <td>49193</td>\n",
       "      <td>'Pawni Mishra'</td>\n",
       "      <td>19</td>\n",
       "      <td>Yes</td>\n",
       "      <td>BCA</td>\n",
       "      <td>7.5</td>\n",
       "      <td>8.0</td>\n",
       "      <td>None</td>\n",
       "      <td>Private</td>\n",
       "      <td>Art</td>\n",
       "      <td>Excellent</td>\n",
       "    </tr>\n",
       "    <tr>\n",
       "      <th>2</th>\n",
       "      <td>48921</td>\n",
       "      <td>'Vikash Pandey '</td>\n",
       "      <td>21</td>\n",
       "      <td>No</td>\n",
       "      <td>BCA</td>\n",
       "      <td>6.4</td>\n",
       "      <td>7.5</td>\n",
       "      <td>None</td>\n",
       "      <td>Regular</td>\n",
       "      <td>Music</td>\n",
       "      <td>Good</td>\n",
       "    </tr>\n",
       "    <tr>\n",
       "      <th>3</th>\n",
       "      <td>49418</td>\n",
       "      <td>'Anubhav jha'</td>\n",
       "      <td>21</td>\n",
       "      <td>No</td>\n",
       "      <td>BCA</td>\n",
       "      <td>5.8</td>\n",
       "      <td>6.4</td>\n",
       "      <td>Anxiety</td>\n",
       "      <td>Regular</td>\n",
       "      <td>Art</td>\n",
       "      <td>Average</td>\n",
       "    </tr>\n",
       "    <tr>\n",
       "      <th>4</th>\n",
       "      <td>50979</td>\n",
       "      <td>'Khalid fayaz'</td>\n",
       "      <td>19</td>\n",
       "      <td>No</td>\n",
       "      <td>BCA</td>\n",
       "      <td>7.1</td>\n",
       "      <td>7.3</td>\n",
       "      <td>None</td>\n",
       "      <td>Regular</td>\n",
       "      <td>Sports</td>\n",
       "      <td>Good</td>\n",
       "    </tr>\n",
       "  </tbody>\n",
       "</table>\n",
       "</div>"
      ],
      "text/plain": [
       "      ID                Name  Age Scholarship Class  CGPA 1  CGPA 2   Health  \\\n",
       "0  48920  'Stephin K George'   20          No   BCA     6.8     7.3     None   \n",
       "1  49193      'Pawni Mishra'   19         Yes   BCA     7.5     8.0     None   \n",
       "2  48921    'Vikash Pandey '   21          No   BCA     6.4     7.5     None   \n",
       "3  49418       'Anubhav jha'   21          No   BCA     5.8     6.4  Anxiety   \n",
       "4  50979      'Khalid fayaz'   19          No   BCA     7.1     7.3     None   \n",
       "\n",
       "  Attendance     EXA ClassRemark  \n",
       "0    Regular  Sports        Good  \n",
       "1    Private     Art   Excellent  \n",
       "2    Regular   Music        Good  \n",
       "3    Regular     Art     Average  \n",
       "4    Regular  Sports        Good  "
      ]
     },
     "execution_count": 3,
     "metadata": {},
     "output_type": "execute_result"
    }
   ],
   "source": [
    "data= pd.read_csv('GradePrediction.csv')\n",
    "data.head()"
   ]
  },
  {
   "cell_type": "code",
   "execution_count": 4,
   "id": "c0ab4d5f",
   "metadata": {},
   "outputs": [
    {
     "data": {
      "text/plain": [
       "(461, 11)"
      ]
     },
     "execution_count": 4,
     "metadata": {},
     "output_type": "execute_result"
    }
   ],
   "source": [
    "data.shape"
   ]
  },
  {
   "cell_type": "code",
   "execution_count": 5,
   "id": "05d389a2",
   "metadata": {},
   "outputs": [
    {
     "name": "stdout",
     "output_type": "stream",
     "text": [
      "<class 'pandas.core.frame.DataFrame'>\n",
      "RangeIndex: 461 entries, 0 to 460\n",
      "Data columns (total 11 columns):\n",
      " #   Column       Non-Null Count  Dtype  \n",
      "---  ------       --------------  -----  \n",
      " 0   ID           461 non-null    int64  \n",
      " 1   Name         461 non-null    object \n",
      " 2   Age          461 non-null    int64  \n",
      " 3   Scholarship  461 non-null    object \n",
      " 4   Class        461 non-null    object \n",
      " 5   CGPA 1       461 non-null    float64\n",
      " 6   CGPA 2       461 non-null    float64\n",
      " 7   Health       461 non-null    object \n",
      " 8   Attendance   461 non-null    object \n",
      " 9   EXA          461 non-null    object \n",
      " 10  ClassRemark  461 non-null    object \n",
      "dtypes: float64(2), int64(2), object(7)\n",
      "memory usage: 39.7+ KB\n"
     ]
    }
   ],
   "source": [
    "data.info()"
   ]
  },
  {
   "cell_type": "code",
   "execution_count": 6,
   "id": "ec391d31",
   "metadata": {},
   "outputs": [
    {
     "data": {
      "text/plain": [
       "RangeIndex(start=0, stop=461, step=1)"
      ]
     },
     "execution_count": 6,
     "metadata": {},
     "output_type": "execute_result"
    }
   ],
   "source": [
    "data.index"
   ]
  },
  {
   "cell_type": "code",
   "execution_count": 7,
   "id": "9be56f73",
   "metadata": {},
   "outputs": [
    {
     "data": {
      "text/plain": [
       "Index(['ID', 'Name', 'Age', 'Scholarship', 'Class', 'CGPA 1', 'CGPA 2',\n",
       "       'Health', 'Attendance', 'EXA', 'ClassRemark'],\n",
       "      dtype='object')"
      ]
     },
     "execution_count": 7,
     "metadata": {},
     "output_type": "execute_result"
    }
   ],
   "source": [
    "data.columns"
   ]
  },
  {
   "cell_type": "code",
   "execution_count": 8,
   "id": "77f04486",
   "metadata": {},
   "outputs": [
    {
     "data": {
      "text/html": [
       "<div>\n",
       "<style scoped>\n",
       "    .dataframe tbody tr th:only-of-type {\n",
       "        vertical-align: middle;\n",
       "    }\n",
       "\n",
       "    .dataframe tbody tr th {\n",
       "        vertical-align: top;\n",
       "    }\n",
       "\n",
       "    .dataframe thead th {\n",
       "        text-align: right;\n",
       "    }\n",
       "</style>\n",
       "<table border=\"1\" class=\"dataframe\">\n",
       "  <thead>\n",
       "    <tr style=\"text-align: right;\">\n",
       "      <th></th>\n",
       "      <th>0</th>\n",
       "    </tr>\n",
       "  </thead>\n",
       "  <tbody>\n",
       "    <tr>\n",
       "      <th>ID</th>\n",
       "      <td>411</td>\n",
       "    </tr>\n",
       "    <tr>\n",
       "      <th>Name</th>\n",
       "      <td>449</td>\n",
       "    </tr>\n",
       "    <tr>\n",
       "      <th>Age</th>\n",
       "      <td>7</td>\n",
       "    </tr>\n",
       "    <tr>\n",
       "      <th>Scholarship</th>\n",
       "      <td>2</td>\n",
       "    </tr>\n",
       "    <tr>\n",
       "      <th>Class</th>\n",
       "      <td>5</td>\n",
       "    </tr>\n",
       "    <tr>\n",
       "      <th>CGPA 1</th>\n",
       "      <td>39</td>\n",
       "    </tr>\n",
       "    <tr>\n",
       "      <th>CGPA 2</th>\n",
       "      <td>38</td>\n",
       "    </tr>\n",
       "    <tr>\n",
       "      <th>Health</th>\n",
       "      <td>4</td>\n",
       "    </tr>\n",
       "    <tr>\n",
       "      <th>Attendance</th>\n",
       "      <td>2</td>\n",
       "    </tr>\n",
       "    <tr>\n",
       "      <th>EXA</th>\n",
       "      <td>4</td>\n",
       "    </tr>\n",
       "    <tr>\n",
       "      <th>ClassRemark</th>\n",
       "      <td>3</td>\n",
       "    </tr>\n",
       "  </tbody>\n",
       "</table>\n",
       "</div>"
      ],
      "text/plain": [
       "               0\n",
       "ID           411\n",
       "Name         449\n",
       "Age            7\n",
       "Scholarship    2\n",
       "Class          5\n",
       "CGPA 1        39\n",
       "CGPA 2        38\n",
       "Health         4\n",
       "Attendance     2\n",
       "EXA            4\n",
       "ClassRemark    3"
      ]
     },
     "execution_count": 8,
     "metadata": {},
     "output_type": "execute_result"
    }
   ],
   "source": [
    "data.nunique().to_frame()"
   ]
  },
  {
   "cell_type": "code",
   "execution_count": 9,
   "id": "5acfbd20",
   "metadata": {},
   "outputs": [
    {
     "data": {
      "text/plain": [
       "461"
      ]
     },
     "execution_count": 9,
     "metadata": {},
     "output_type": "execute_result"
    }
   ],
   "source": [
    "data['ID'].count()"
   ]
  },
  {
   "cell_type": "code",
   "execution_count": 13,
   "id": "78158fdb",
   "metadata": {},
   "outputs": [],
   "source": [
    "#preprocessing "
   ]
  },
  {
   "cell_type": "code",
   "execution_count": 14,
   "id": "8550f7df",
   "metadata": {},
   "outputs": [
    {
     "data": {
      "text/plain": [
       "1"
      ]
     },
     "execution_count": 14,
     "metadata": {},
     "output_type": "execute_result"
    }
   ],
   "source": [
    "data.duplicated().sum()"
   ]
  },
  {
   "cell_type": "code",
   "execution_count": null,
   "id": "7bd31657",
   "metadata": {},
   "outputs": [],
   "source": [
    "data.drop_duplicates(inplace_True)"
   ]
  },
  {
   "cell_type": "code",
   "execution_count": 12,
   "id": "ac1f004c",
   "metadata": {},
   "outputs": [
    {
     "data": {
      "text/plain": [
       "ID             0\n",
       "Name           0\n",
       "Age            0\n",
       "Scholarship    0\n",
       "Class          0\n",
       "CGPA 1         0\n",
       "CGPA 2         0\n",
       "Health         0\n",
       "Attendance     0\n",
       "EXA            0\n",
       "ClassRemark    0\n",
       "dtype: int64"
      ]
     },
     "execution_count": 12,
     "metadata": {},
     "output_type": "execute_result"
    }
   ],
   "source": [
    "data.isna().sum()"
   ]
  },
  {
   "cell_type": "code",
   "execution_count": 13,
   "id": "817806bc",
   "metadata": {},
   "outputs": [],
   "source": [
    "#droping all the missing values "
   ]
  },
  {
   "cell_type": "code",
   "execution_count": 14,
   "id": "6919ab41",
   "metadata": {},
   "outputs": [],
   "source": [
    "data.dropna(inplace=True)"
   ]
  },
  {
   "cell_type": "code",
   "execution_count": 15,
   "id": "67e55509",
   "metadata": {},
   "outputs": [
    {
     "data": {
      "text/plain": [
       "ID             0\n",
       "Name           0\n",
       "Age            0\n",
       "Scholarship    0\n",
       "Class          0\n",
       "CGPA 1         0\n",
       "CGPA 2         0\n",
       "Health         0\n",
       "Attendance     0\n",
       "EXA            0\n",
       "ClassRemark    0\n",
       "dtype: int64"
      ]
     },
     "execution_count": 15,
     "metadata": {},
     "output_type": "execute_result"
    }
   ],
   "source": [
    "data.isna().sum()"
   ]
  },
  {
   "cell_type": "code",
   "execution_count": 16,
   "id": "2a9a0844",
   "metadata": {},
   "outputs": [
    {
     "data": {
      "text/html": [
       "<div>\n",
       "<style scoped>\n",
       "    .dataframe tbody tr th:only-of-type {\n",
       "        vertical-align: middle;\n",
       "    }\n",
       "\n",
       "    .dataframe tbody tr th {\n",
       "        vertical-align: top;\n",
       "    }\n",
       "\n",
       "    .dataframe thead th {\n",
       "        text-align: right;\n",
       "    }\n",
       "</style>\n",
       "<table border=\"1\" class=\"dataframe\">\n",
       "  <thead>\n",
       "    <tr style=\"text-align: right;\">\n",
       "      <th></th>\n",
       "      <th>ID</th>\n",
       "      <th>Name</th>\n",
       "      <th>Age</th>\n",
       "      <th>Scholarship</th>\n",
       "      <th>Class</th>\n",
       "      <th>CGPA 1</th>\n",
       "      <th>CGPA 2</th>\n",
       "      <th>Health</th>\n",
       "      <th>Attendance</th>\n",
       "      <th>EXA</th>\n",
       "      <th>ClassRemark</th>\n",
       "    </tr>\n",
       "  </thead>\n",
       "  <tbody>\n",
       "    <tr>\n",
       "      <th>0</th>\n",
       "      <td>48920</td>\n",
       "      <td>'Stephin K George'</td>\n",
       "      <td>20.0</td>\n",
       "      <td>No</td>\n",
       "      <td>BCA</td>\n",
       "      <td>6.8</td>\n",
       "      <td>7.3</td>\n",
       "      <td>None</td>\n",
       "      <td>Regular</td>\n",
       "      <td>Sports</td>\n",
       "      <td>Good</td>\n",
       "    </tr>\n",
       "    <tr>\n",
       "      <th>1</th>\n",
       "      <td>49193</td>\n",
       "      <td>'Pawni Mishra'</td>\n",
       "      <td>19.0</td>\n",
       "      <td>Yes</td>\n",
       "      <td>BCA</td>\n",
       "      <td>7.5</td>\n",
       "      <td>8.0</td>\n",
       "      <td>None</td>\n",
       "      <td>Private</td>\n",
       "      <td>Art</td>\n",
       "      <td>Excellent</td>\n",
       "    </tr>\n",
       "    <tr>\n",
       "      <th>2</th>\n",
       "      <td>48921</td>\n",
       "      <td>'Vikash Pandey '</td>\n",
       "      <td>21.0</td>\n",
       "      <td>No</td>\n",
       "      <td>BCA</td>\n",
       "      <td>6.4</td>\n",
       "      <td>7.5</td>\n",
       "      <td>None</td>\n",
       "      <td>Regular</td>\n",
       "      <td>Music</td>\n",
       "      <td>Good</td>\n",
       "    </tr>\n",
       "    <tr>\n",
       "      <th>3</th>\n",
       "      <td>49418</td>\n",
       "      <td>'Anubhav jha'</td>\n",
       "      <td>21.0</td>\n",
       "      <td>No</td>\n",
       "      <td>BCA</td>\n",
       "      <td>5.8</td>\n",
       "      <td>6.4</td>\n",
       "      <td>Anxiety</td>\n",
       "      <td>Regular</td>\n",
       "      <td>Art</td>\n",
       "      <td>Average</td>\n",
       "    </tr>\n",
       "    <tr>\n",
       "      <th>4</th>\n",
       "      <td>50979</td>\n",
       "      <td>'Khalid fayaz'</td>\n",
       "      <td>19.0</td>\n",
       "      <td>No</td>\n",
       "      <td>BCA</td>\n",
       "      <td>7.1</td>\n",
       "      <td>7.3</td>\n",
       "      <td>None</td>\n",
       "      <td>Regular</td>\n",
       "      <td>Sports</td>\n",
       "      <td>Good</td>\n",
       "    </tr>\n",
       "  </tbody>\n",
       "</table>\n",
       "</div>"
      ],
      "text/plain": [
       "      ID                Name   Age Scholarship Class  CGPA 1  CGPA 2   Health  \\\n",
       "0  48920  'Stephin K George'  20.0          No   BCA     6.8     7.3     None   \n",
       "1  49193      'Pawni Mishra'  19.0         Yes   BCA     7.5     8.0     None   \n",
       "2  48921    'Vikash Pandey '  21.0          No   BCA     6.4     7.5     None   \n",
       "3  49418       'Anubhav jha'  21.0          No   BCA     5.8     6.4  Anxiety   \n",
       "4  50979      'Khalid fayaz'  19.0          No   BCA     7.1     7.3     None   \n",
       "\n",
       "  Attendance     EXA ClassRemark  \n",
       "0    Regular  Sports        Good  \n",
       "1    Private     Art   Excellent  \n",
       "2    Regular   Music        Good  \n",
       "3    Regular     Art     Average  \n",
       "4    Regular  Sports        Good  "
      ]
     },
     "execution_count": 16,
     "metadata": {},
     "output_type": "execute_result"
    }
   ],
   "source": [
    "data.head()"
   ]
  },
  {
   "cell_type": "code",
   "execution_count": 17,
   "id": "059d9632",
   "metadata": {},
   "outputs": [
    {
     "name": "stdout",
     "output_type": "stream",
     "text": [
      "<class 'pandas.core.frame.DataFrame'>\n",
      "RangeIndex: 461 entries, 0 to 460\n",
      "Data columns (total 11 columns):\n",
      " #   Column       Non-Null Count  Dtype  \n",
      "---  ------       --------------  -----  \n",
      " 0   ID           461 non-null    int64  \n",
      " 1   Name         461 non-null    object \n",
      " 2   Age          461 non-null    float64\n",
      " 3   Scholarship  461 non-null    object \n",
      " 4   Class        461 non-null    object \n",
      " 5   CGPA 1       461 non-null    float64\n",
      " 6   CGPA 2       461 non-null    float64\n",
      " 7   Health       461 non-null    object \n",
      " 8   Attendance   461 non-null    object \n",
      " 9   EXA          461 non-null    object \n",
      " 10  ClassRemark  461 non-null    object \n",
      "dtypes: float64(3), int64(1), object(7)\n",
      "memory usage: 39.7+ KB\n"
     ]
    }
   ],
   "source": [
    "data.info()"
   ]
  },
  {
   "cell_type": "code",
   "execution_count": null,
   "id": "a2347110",
   "metadata": {},
   "outputs": [],
   "source": []
  },
  {
   "cell_type": "code",
   "execution_count": 18,
   "id": "eb97e1ca",
   "metadata": {},
   "outputs": [
    {
     "data": {
      "text/plain": [
       "ID             411\n",
       "Name           449\n",
       "Age              8\n",
       "Scholarship      2\n",
       "Class            5\n",
       "CGPA 1          39\n",
       "CGPA 2          38\n",
       "Health           4\n",
       "Attendance       2\n",
       "EXA              4\n",
       "ClassRemark      3\n",
       "dtype: int64"
      ]
     },
     "execution_count": 18,
     "metadata": {},
     "output_type": "execute_result"
    }
   ],
   "source": [
    "data.nunique()"
   ]
  },
  {
   "cell_type": "code",
   "execution_count": 19,
   "id": "2ceb533f",
   "metadata": {},
   "outputs": [
    {
     "data": {
      "text/plain": [
       "array([20.   , 19.   , 21.   , 22.   , 23.   , 24.   ,  0.   , 22.021])"
      ]
     },
     "execution_count": 19,
     "metadata": {},
     "output_type": "execute_result"
    }
   ],
   "source": [
    "data['Age'].unique()"
   ]
  },
  {
   "cell_type": "code",
   "execution_count": 20,
   "id": "91b40d0e",
   "metadata": {},
   "outputs": [
    {
     "data": {
      "text/plain": [
       "461"
      ]
     },
     "execution_count": 20,
     "metadata": {},
     "output_type": "execute_result"
    }
   ],
   "source": [
    "data['ID'].value_counts().sum()"
   ]
  },
  {
   "cell_type": "code",
   "execution_count": 21,
   "id": "c60fee9e",
   "metadata": {},
   "outputs": [],
   "source": [
    "data.drop_duplicates(subset=['ID'],inplace=True)"
   ]
  },
  {
   "cell_type": "code",
   "execution_count": 22,
   "id": "933127aa",
   "metadata": {},
   "outputs": [
    {
     "data": {
      "text/plain": [
       "411"
      ]
     },
     "execution_count": 22,
     "metadata": {},
     "output_type": "execute_result"
    }
   ],
   "source": [
    "data['ID'].count()"
   ]
  },
  {
   "cell_type": "code",
   "execution_count": 23,
   "id": "7626cd41",
   "metadata": {},
   "outputs": [
    {
     "data": {
      "text/plain": [
       "411"
      ]
     },
     "execution_count": 23,
     "metadata": {},
     "output_type": "execute_result"
    }
   ],
   "source": [
    "data['ID'].value_counts().sum()"
   ]
  },
  {
   "cell_type": "code",
   "execution_count": 24,
   "id": "504f3f85",
   "metadata": {},
   "outputs": [],
   "source": [
    "#statistical Analysis "
   ]
  },
  {
   "cell_type": "code",
   "execution_count": 25,
   "id": "3c760c1c",
   "metadata": {},
   "outputs": [
    {
     "data": {
      "text/html": [
       "<div>\n",
       "<style scoped>\n",
       "    .dataframe tbody tr th:only-of-type {\n",
       "        vertical-align: middle;\n",
       "    }\n",
       "\n",
       "    .dataframe tbody tr th {\n",
       "        vertical-align: top;\n",
       "    }\n",
       "\n",
       "    .dataframe thead th {\n",
       "        text-align: right;\n",
       "    }\n",
       "</style>\n",
       "<table border=\"1\" class=\"dataframe\">\n",
       "  <thead>\n",
       "    <tr style=\"text-align: right;\">\n",
       "      <th></th>\n",
       "      <th>ID</th>\n",
       "      <th>Age</th>\n",
       "      <th>CGPA 1</th>\n",
       "      <th>CGPA 2</th>\n",
       "    </tr>\n",
       "  </thead>\n",
       "  <tbody>\n",
       "    <tr>\n",
       "      <th>count</th>\n",
       "      <td>411.000000</td>\n",
       "      <td>411.000000</td>\n",
       "      <td>411.000000</td>\n",
       "      <td>411.000000</td>\n",
       "    </tr>\n",
       "    <tr>\n",
       "      <th>mean</th>\n",
       "      <td>44142.335766</td>\n",
       "      <td>20.858932</td>\n",
       "      <td>6.655474</td>\n",
       "      <td>6.804866</td>\n",
       "    </tr>\n",
       "    <tr>\n",
       "      <th>std</th>\n",
       "      <td>13746.619635</td>\n",
       "      <td>1.538025</td>\n",
       "      <td>0.898122</td>\n",
       "      <td>0.843151</td>\n",
       "    </tr>\n",
       "    <tr>\n",
       "      <th>min</th>\n",
       "      <td>0.000000</td>\n",
       "      <td>0.000000</td>\n",
       "      <td>0.000000</td>\n",
       "      <td>0.000000</td>\n",
       "    </tr>\n",
       "    <tr>\n",
       "      <th>25%</th>\n",
       "      <td>33030.500000</td>\n",
       "      <td>20.000000</td>\n",
       "      <td>6.100000</td>\n",
       "      <td>6.300000</td>\n",
       "    </tr>\n",
       "    <tr>\n",
       "      <th>50%</th>\n",
       "      <td>45437.000000</td>\n",
       "      <td>21.000000</td>\n",
       "      <td>6.500000</td>\n",
       "      <td>6.800000</td>\n",
       "    </tr>\n",
       "    <tr>\n",
       "      <th>75%</th>\n",
       "      <td>55312.000000</td>\n",
       "      <td>22.000000</td>\n",
       "      <td>7.100000</td>\n",
       "      <td>7.300000</td>\n",
       "    </tr>\n",
       "    <tr>\n",
       "      <th>max</th>\n",
       "      <td>66595.000000</td>\n",
       "      <td>24.000000</td>\n",
       "      <td>8.600000</td>\n",
       "      <td>9.200000</td>\n",
       "    </tr>\n",
       "  </tbody>\n",
       "</table>\n",
       "</div>"
      ],
      "text/plain": [
       "                 ID         Age      CGPA 1      CGPA 2\n",
       "count    411.000000  411.000000  411.000000  411.000000\n",
       "mean   44142.335766   20.858932    6.655474    6.804866\n",
       "std    13746.619635    1.538025    0.898122    0.843151\n",
       "min        0.000000    0.000000    0.000000    0.000000\n",
       "25%    33030.500000   20.000000    6.100000    6.300000\n",
       "50%    45437.000000   21.000000    6.500000    6.800000\n",
       "75%    55312.000000   22.000000    7.100000    7.300000\n",
       "max    66595.000000   24.000000    8.600000    9.200000"
      ]
     },
     "execution_count": 25,
     "metadata": {},
     "output_type": "execute_result"
    }
   ],
   "source": [
    "data.describe() #to get central tandency of dataset "
   ]
  },
  {
   "cell_type": "code",
   "execution_count": 26,
   "id": "20f9d14e",
   "metadata": {},
   "outputs": [
    {
     "data": {
      "text/html": [
       "<div>\n",
       "<style scoped>\n",
       "    .dataframe tbody tr th:only-of-type {\n",
       "        vertical-align: middle;\n",
       "    }\n",
       "\n",
       "    .dataframe tbody tr th {\n",
       "        vertical-align: top;\n",
       "    }\n",
       "\n",
       "    .dataframe thead th {\n",
       "        text-align: right;\n",
       "    }\n",
       "</style>\n",
       "<table border=\"1\" class=\"dataframe\">\n",
       "  <thead>\n",
       "    <tr style=\"text-align: right;\">\n",
       "      <th></th>\n",
       "      <th>Name</th>\n",
       "      <th>Scholarship</th>\n",
       "      <th>Class</th>\n",
       "      <th>Health</th>\n",
       "      <th>Attendance</th>\n",
       "      <th>EXA</th>\n",
       "      <th>ClassRemark</th>\n",
       "    </tr>\n",
       "  </thead>\n",
       "  <tbody>\n",
       "    <tr>\n",
       "      <th>count</th>\n",
       "      <td>411</td>\n",
       "      <td>411</td>\n",
       "      <td>411</td>\n",
       "      <td>411</td>\n",
       "      <td>411</td>\n",
       "      <td>411</td>\n",
       "      <td>411</td>\n",
       "    </tr>\n",
       "    <tr>\n",
       "      <th>unique</th>\n",
       "      <td>401</td>\n",
       "      <td>2</td>\n",
       "      <td>5</td>\n",
       "      <td>4</td>\n",
       "      <td>2</td>\n",
       "      <td>4</td>\n",
       "      <td>3</td>\n",
       "    </tr>\n",
       "    <tr>\n",
       "      <th>top</th>\n",
       "      <td>'Stephin K George'</td>\n",
       "      <td>No</td>\n",
       "      <td>B.COM</td>\n",
       "      <td>Stress</td>\n",
       "      <td>Regular</td>\n",
       "      <td>Dance</td>\n",
       "      <td>Good</td>\n",
       "    </tr>\n",
       "    <tr>\n",
       "      <th>freq</th>\n",
       "      <td>2</td>\n",
       "      <td>275</td>\n",
       "      <td>142</td>\n",
       "      <td>118</td>\n",
       "      <td>260</td>\n",
       "      <td>120</td>\n",
       "      <td>205</td>\n",
       "    </tr>\n",
       "  </tbody>\n",
       "</table>\n",
       "</div>"
      ],
      "text/plain": [
       "                      Name Scholarship  Class  Health Attendance    EXA  \\\n",
       "count                  411         411    411     411        411    411   \n",
       "unique                 401           2      5       4          2      4   \n",
       "top     'Stephin K George'          No  B.COM  Stress    Regular  Dance   \n",
       "freq                     2         275    142     118        260    120   \n",
       "\n",
       "       ClassRemark  \n",
       "count          411  \n",
       "unique           3  \n",
       "top           Good  \n",
       "freq           205  "
      ]
     },
     "execution_count": 26,
     "metadata": {},
     "output_type": "execute_result"
    }
   ],
   "source": [
    "data.describe(include='object')"
   ]
  },
  {
   "cell_type": "code",
   "execution_count": 27,
   "id": "7d65aefb",
   "metadata": {},
   "outputs": [
    {
     "name": "stdout",
     "output_type": "stream",
     "text": [
      "<class 'pandas.core.frame.DataFrame'>\n",
      "Int64Index: 411 entries, 0 to 460\n",
      "Data columns (total 11 columns):\n",
      " #   Column       Non-Null Count  Dtype  \n",
      "---  ------       --------------  -----  \n",
      " 0   ID           411 non-null    int64  \n",
      " 1   Name         411 non-null    object \n",
      " 2   Age          411 non-null    float64\n",
      " 3   Scholarship  411 non-null    object \n",
      " 4   Class        411 non-null    object \n",
      " 5   CGPA 1       411 non-null    float64\n",
      " 6   CGPA 2       411 non-null    float64\n",
      " 7   Health       411 non-null    object \n",
      " 8   Attendance   411 non-null    object \n",
      " 9   EXA          411 non-null    object \n",
      " 10  ClassRemark  411 non-null    object \n",
      "dtypes: float64(3), int64(1), object(7)\n",
      "memory usage: 38.5+ KB\n"
     ]
    }
   ],
   "source": [
    "data.info()"
   ]
  },
  {
   "cell_type": "code",
   "execution_count": 28,
   "id": "cf09d8d1",
   "metadata": {},
   "outputs": [
    {
     "data": {
      "text/html": [
       "<div>\n",
       "<style scoped>\n",
       "    .dataframe tbody tr th:only-of-type {\n",
       "        vertical-align: middle;\n",
       "    }\n",
       "\n",
       "    .dataframe tbody tr th {\n",
       "        vertical-align: top;\n",
       "    }\n",
       "\n",
       "    .dataframe thead th {\n",
       "        text-align: right;\n",
       "    }\n",
       "</style>\n",
       "<table border=\"1\" class=\"dataframe\">\n",
       "  <thead>\n",
       "    <tr style=\"text-align: right;\">\n",
       "      <th></th>\n",
       "      <th>Name</th>\n",
       "      <th>Scholarship</th>\n",
       "      <th>Class</th>\n",
       "      <th>Health</th>\n",
       "      <th>Attendance</th>\n",
       "      <th>EXA</th>\n",
       "      <th>ClassRemark</th>\n",
       "    </tr>\n",
       "  </thead>\n",
       "  <tbody>\n",
       "    <tr>\n",
       "      <th>count</th>\n",
       "      <td>411</td>\n",
       "      <td>411</td>\n",
       "      <td>411</td>\n",
       "      <td>411</td>\n",
       "      <td>411</td>\n",
       "      <td>411</td>\n",
       "      <td>411</td>\n",
       "    </tr>\n",
       "    <tr>\n",
       "      <th>unique</th>\n",
       "      <td>401</td>\n",
       "      <td>2</td>\n",
       "      <td>5</td>\n",
       "      <td>4</td>\n",
       "      <td>2</td>\n",
       "      <td>4</td>\n",
       "      <td>3</td>\n",
       "    </tr>\n",
       "    <tr>\n",
       "      <th>top</th>\n",
       "      <td>'Stephin K George'</td>\n",
       "      <td>No</td>\n",
       "      <td>B.COM</td>\n",
       "      <td>Stress</td>\n",
       "      <td>Regular</td>\n",
       "      <td>Dance</td>\n",
       "      <td>Good</td>\n",
       "    </tr>\n",
       "    <tr>\n",
       "      <th>freq</th>\n",
       "      <td>2</td>\n",
       "      <td>275</td>\n",
       "      <td>142</td>\n",
       "      <td>118</td>\n",
       "      <td>260</td>\n",
       "      <td>120</td>\n",
       "      <td>205</td>\n",
       "    </tr>\n",
       "  </tbody>\n",
       "</table>\n",
       "</div>"
      ],
      "text/plain": [
       "                      Name Scholarship  Class  Health Attendance    EXA  \\\n",
       "count                  411         411    411     411        411    411   \n",
       "unique                 401           2      5       4          2      4   \n",
       "top     'Stephin K George'          No  B.COM  Stress    Regular  Dance   \n",
       "freq                     2         275    142     118        260    120   \n",
       "\n",
       "       ClassRemark  \n",
       "count          411  \n",
       "unique           3  \n",
       "top           Good  \n",
       "freq           205  "
      ]
     },
     "execution_count": 28,
     "metadata": {},
     "output_type": "execute_result"
    }
   ],
   "source": [
    "data.describe(include='object')"
   ]
  },
  {
   "cell_type": "code",
   "execution_count": 29,
   "id": "0d597445",
   "metadata": {},
   "outputs": [],
   "source": [
    "correlation = data['CGPA 1'].corr(data['CGPA 2'])"
   ]
  },
  {
   "cell_type": "code",
   "execution_count": 30,
   "id": "40e66fe6",
   "metadata": {},
   "outputs": [
    {
     "data": {
      "text/plain": [
       "0.4894432873411609"
      ]
     },
     "execution_count": 30,
     "metadata": {},
     "output_type": "execute_result"
    }
   ],
   "source": [
    "correlation"
   ]
  },
  {
   "cell_type": "code",
   "execution_count": 31,
   "id": "a4b92bae",
   "metadata": {},
   "outputs": [],
   "source": [
    "correlation1 = data['ID'].corr(data['CGPA 1'])"
   ]
  },
  {
   "cell_type": "code",
   "execution_count": 32,
   "id": "4a211d25",
   "metadata": {},
   "outputs": [
    {
     "data": {
      "text/plain": [
       "0.0947391007728859"
      ]
     },
     "execution_count": 32,
     "metadata": {},
     "output_type": "execute_result"
    }
   ],
   "source": [
    "correlation1"
   ]
  },
  {
   "cell_type": "code",
   "execution_count": 33,
   "id": "2fe63dff",
   "metadata": {},
   "outputs": [
    {
     "data": {
      "text/plain": [
       "0.04837437014428381"
      ]
     },
     "execution_count": 33,
     "metadata": {},
     "output_type": "execute_result"
    }
   ],
   "source": [
    "correlation2 = data['ID'].corr(data['CGPA 2'])\n",
    "correlation2"
   ]
  },
  {
   "cell_type": "code",
   "execution_count": 34,
   "id": "b8c6f32c",
   "metadata": {},
   "outputs": [],
   "source": [
    "#Normalizing dataset ------> simple feature scaling method\n",
    "\n"
   ]
  },
  {
   "cell_type": "code",
   "execution_count": 35,
   "id": "5ec80fc5",
   "metadata": {},
   "outputs": [],
   "source": [
    "data['CGPA 2']=data['CGPA 2']/data['CGPA 2'].max()"
   ]
  },
  {
   "cell_type": "code",
   "execution_count": 36,
   "id": "9eb5d022",
   "metadata": {},
   "outputs": [],
   "source": [
    "data['CGPA 1']=data['CGPA 1']/data['CGPA 1'].max()"
   ]
  },
  {
   "cell_type": "code",
   "execution_count": 37,
   "id": "8c47c18e",
   "metadata": {},
   "outputs": [
    {
     "data": {
      "text/html": [
       "<div>\n",
       "<style scoped>\n",
       "    .dataframe tbody tr th:only-of-type {\n",
       "        vertical-align: middle;\n",
       "    }\n",
       "\n",
       "    .dataframe tbody tr th {\n",
       "        vertical-align: top;\n",
       "    }\n",
       "\n",
       "    .dataframe thead th {\n",
       "        text-align: right;\n",
       "    }\n",
       "</style>\n",
       "<table border=\"1\" class=\"dataframe\">\n",
       "  <thead>\n",
       "    <tr style=\"text-align: right;\">\n",
       "      <th></th>\n",
       "      <th>ID</th>\n",
       "      <th>Name</th>\n",
       "      <th>Age</th>\n",
       "      <th>Scholarship</th>\n",
       "      <th>Class</th>\n",
       "      <th>CGPA 1</th>\n",
       "      <th>CGPA 2</th>\n",
       "      <th>Health</th>\n",
       "      <th>Attendance</th>\n",
       "      <th>EXA</th>\n",
       "      <th>ClassRemark</th>\n",
       "    </tr>\n",
       "  </thead>\n",
       "  <tbody>\n",
       "    <tr>\n",
       "      <th>0</th>\n",
       "      <td>48920</td>\n",
       "      <td>'Stephin K George'</td>\n",
       "      <td>20.0</td>\n",
       "      <td>No</td>\n",
       "      <td>BCA</td>\n",
       "      <td>0.790698</td>\n",
       "      <td>0.793478</td>\n",
       "      <td>None</td>\n",
       "      <td>Regular</td>\n",
       "      <td>Sports</td>\n",
       "      <td>Good</td>\n",
       "    </tr>\n",
       "    <tr>\n",
       "      <th>1</th>\n",
       "      <td>49193</td>\n",
       "      <td>'Pawni Mishra'</td>\n",
       "      <td>19.0</td>\n",
       "      <td>Yes</td>\n",
       "      <td>BCA</td>\n",
       "      <td>0.872093</td>\n",
       "      <td>0.869565</td>\n",
       "      <td>None</td>\n",
       "      <td>Private</td>\n",
       "      <td>Art</td>\n",
       "      <td>Excellent</td>\n",
       "    </tr>\n",
       "    <tr>\n",
       "      <th>2</th>\n",
       "      <td>48921</td>\n",
       "      <td>'Vikash Pandey '</td>\n",
       "      <td>21.0</td>\n",
       "      <td>No</td>\n",
       "      <td>BCA</td>\n",
       "      <td>0.744186</td>\n",
       "      <td>0.815217</td>\n",
       "      <td>None</td>\n",
       "      <td>Regular</td>\n",
       "      <td>Music</td>\n",
       "      <td>Good</td>\n",
       "    </tr>\n",
       "  </tbody>\n",
       "</table>\n",
       "</div>"
      ],
      "text/plain": [
       "      ID                Name   Age Scholarship Class    CGPA 1    CGPA 2  \\\n",
       "0  48920  'Stephin K George'  20.0          No   BCA  0.790698  0.793478   \n",
       "1  49193      'Pawni Mishra'  19.0         Yes   BCA  0.872093  0.869565   \n",
       "2  48921    'Vikash Pandey '  21.0          No   BCA  0.744186  0.815217   \n",
       "\n",
       "  Health Attendance     EXA ClassRemark  \n",
       "0   None    Regular  Sports        Good  \n",
       "1   None    Private     Art   Excellent  \n",
       "2   None    Regular   Music        Good  "
      ]
     },
     "execution_count": 37,
     "metadata": {},
     "output_type": "execute_result"
    }
   ],
   "source": [
    "data.head(3) #because the max value in both columns are same "
   ]
  },
  {
   "cell_type": "code",
   "execution_count": 38,
   "id": "e3dcac8a",
   "metadata": {},
   "outputs": [],
   "source": [
    "# EDA-----> Explorotry data analysis "
   ]
  },
  {
   "cell_type": "code",
   "execution_count": 39,
   "id": "484b0ff0",
   "metadata": {},
   "outputs": [
    {
     "data": {
      "image/png": "[encoded data removed]",
      "text/plain": [
       "<Figure size 432x288 with 1 Axes>"
      ]
     },
     "metadata": {},
     "output_type": "display_data"
    }
   ],
   "source": [
    "sns.countplot(x='CGPA 1',data=data)\n",
    "plt.show()"
   ]
  },
  {
   "cell_type": "code",
   "execution_count": 40,
   "id": "c3396e8b",
   "metadata": {},
   "outputs": [
    {
     "data": {
      "image/png": "[encoded data removed]",
      "text/plain": [
       "<Figure size 432x288 with 1 Axes>"
      ]
     },
     "metadata": {},
     "output_type": "display_data"
    }
   ],
   "source": [
    "sns.countplot(x='CGPA 2',data=data)\n",
    "plt.show()"
   ]
  },
  {
   "cell_type": "code",
   "execution_count": 41,
   "id": "a2f4a1cd",
   "metadata": {},
   "outputs": [
    {
     "data": {
      "image/png": "[encoded data removed]",
      "text/plain": [
       "<Figure size 432x288 with 1 Axes>"
      ]
     },
     "metadata": {},
     "output_type": "display_data"
    }
   ],
   "source": [
    "sns.lineplot(x='ClassRemark',y='CGPA 1',data=data)\n",
    "plt.show()"
   ]
  },
  {
   "cell_type": "code",
   "execution_count": 42,
   "id": "96c07ba1",
   "metadata": {},
   "outputs": [
    {
     "data": {
      "image/png": "[encoded data removed]",
      "text/plain": [
       "<Figure size 432x288 with 1 Axes>"
      ]
     },
     "metadata": {},
     "output_type": "display_data"
    }
   ],
   "source": [
    "sns.barplot(x='Age',y='CGPA 1',data=data)\n",
    "plt.show()"
   ]
  },
  {
   "cell_type": "code",
   "execution_count": 43,
   "id": "9384d896",
   "metadata": {},
   "outputs": [
    {
     "data": {
      "image/png": "[encoded data removed]",
      "text/plain": [
       "<Figure size 432x288 with 1 Axes>"
      ]
     },
     "metadata": {},
     "output_type": "display_data"
    }
   ],
   "source": [
    "sns.barplot(x='Class',y='CGPA 2',data=data)\n",
    "plt.show()"
   ]
  },
  {
   "cell_type": "code",
   "execution_count": 44,
   "id": "855720a3",
   "metadata": {},
   "outputs": [
    {
     "data": {
      "image/png": "[encoded data removed]",
      "text/plain": [
       "<Figure size 432x288 with 1 Axes>"
      ]
     },
     "metadata": {},
     "output_type": "display_data"
    }
   ],
   "source": [
    "sns.barplot(x='EXA',y='CGPA 1',data=data)\n",
    "plt.show()"
   ]
  },
  {
   "cell_type": "code",
   "execution_count": 45,
   "id": "2a4e6f5f",
   "metadata": {},
   "outputs": [
    {
     "data": {
      "image/png": "[encoded data removed]",
      "text/plain": [
       "<Figure size 432x288 with 1 Axes>"
      ]
     },
     "metadata": {},
     "output_type": "display_data"
    }
   ],
   "source": [
    "sns.barplot(x='ClassRemark',y='CGPA 2',data=data)\n",
    "plt.show()"
   ]
  },
  {
   "cell_type": "code",
   "execution_count": 46,
   "id": "405af9f6",
   "metadata": {},
   "outputs": [
    {
     "data": {
      "image/png": "[encoded data removed]",
      "text/plain": [
       "<Figure size 432x288 with 1 Axes>"
      ]
     },
     "metadata": {},
     "output_type": "display_data"
    }
   ],
   "source": [
    "sns.scatterplot(x='ClassRemark',y='CGPA 1',data=data)\n",
    "plt.show()"
   ]
  },
  {
   "cell_type": "code",
   "execution_count": 47,
   "id": "9d56951b",
   "metadata": {},
   "outputs": [
    {
     "data": {
      "image/png": "[encoded data removed]",
      "text/plain": [
       "<Figure size 432x288 with 1 Axes>"
      ]
     },
     "metadata": {},
     "output_type": "display_data"
    }
   ],
   "source": [
    "sns.scatterplot(x='ClassRemark',y='CGPA 2',data=data)\n",
    "plt.show()"
   ]
  },
  {
   "cell_type": "code",
   "execution_count": 48,
   "id": "03f668ae",
   "metadata": {},
   "outputs": [
    {
     "data": {
      "image/png": "[encoded data removed]",
      "text/plain": [
       "<Figure size 432x288 with 1 Axes>"
      ]
     },
     "metadata": {},
     "output_type": "display_data"
    }
   ],
   "source": [
    "sns.scatterplot(x='Attendance',y='CGPA 2',data=data)\n",
    "plt.show()"
   ]
  },
  {
   "cell_type": "code",
   "execution_count": 49,
   "id": "14c05aae",
   "metadata": {},
   "outputs": [
    {
     "data": {
      "text/plain": [
       "<AxesSubplot:xlabel='CGPA 1', ylabel='Count'>"
      ]
     },
     "execution_count": 49,
     "metadata": {},
     "output_type": "execute_result"
    },
    {
     "data": {
      "image/png": "[encoded data removed]",
      "text/plain": [
       "<Figure size 432x288 with 1 Axes>"
      ]
     },
     "metadata": {},
     "output_type": "display_data"
    }
   ],
   "source": [
    "sns.histplot(data['CGPA 1'],color='red')"
   ]
  },
  {
   "cell_type": "code",
   "execution_count": 50,
   "id": "8f3c9100",
   "metadata": {},
   "outputs": [
    {
     "data": {
      "text/plain": [
       "<AxesSubplot:xlabel='CGPA 1'>"
      ]
     },
     "execution_count": 50,
     "metadata": {},
     "output_type": "execute_result"
    },
    {
     "data": {
      "image/png": "[encoded data removed]",
      "text/plain": [
       "<Figure size 432x288 with 1 Axes>"
      ]
     },
     "metadata": {},
     "output_type": "display_data"
    }
   ],
   "source": [
    "sns.boxplot(x='CGPA 1',data=data)"
   ]
  },
  {
   "cell_type": "code",
   "execution_count": 51,
   "id": "4376ab62",
   "metadata": {},
   "outputs": [
    {
     "data": {
      "text/plain": [
       "<AxesSubplot:xlabel='CGPA 2'>"
      ]
     },
     "execution_count": 51,
     "metadata": {},
     "output_type": "execute_result"
    },
    {
     "data": {
      "image/png": "[encoded data removed]",
      "text/plain": [
       "<Figure size 432x288 with 1 Axes>"
      ]
     },
     "metadata": {},
     "output_type": "display_data"
    }
   ],
   "source": [
    "sns.boxplot(x='CGPA 2',data=data)"
   ]
  },
  {
   "cell_type": "code",
   "execution_count": 52,
   "id": "bf89e198",
   "metadata": {},
   "outputs": [
    {
     "data": {
      "text/plain": [
       "<AxesSubplot:xlabel='CGPA 1', ylabel='ClassRemark'>"
      ]
     },
     "execution_count": 52,
     "metadata": {},
     "output_type": "execute_result"
    },
    {
     "data": {
      "image/png": "[encoded data removed]",
      "text/plain": [
       "<Figure size 432x288 with 1 Axes>"
      ]
     },
     "metadata": {},
     "output_type": "display_data"
    }
   ],
   "source": [
    "sns.boxplot(y='ClassRemark',x='CGPA 1',data=data)"
   ]
  },
  {
   "cell_type": "code",
   "execution_count": 53,
   "id": "c96b1ccf",
   "metadata": {},
   "outputs": [
    {
     "data": {
      "text/plain": [
       "<AxesSubplot:xlabel='CGPA 2', ylabel='ClassRemark'>"
      ]
     },
     "execution_count": 53,
     "metadata": {},
     "output_type": "execute_result"
    },
    {
     "data": {
      "image/png": "[encoded data removed]",
      "text/plain": [
       "<Figure size 432x288 with 1 Axes>"
      ]
     },
     "metadata": {},
     "output_type": "display_data"
    }
   ],
   "source": [
    "sns.boxplot(y='ClassRemark',x='CGPA 2',data=data)"
   ]
  },
  {
   "cell_type": "code",
   "execution_count": 54,
   "id": "26faba43",
   "metadata": {},
   "outputs": [
    {
     "data": {
      "text/html": [
       "<div>\n",
       "<style scoped>\n",
       "    .dataframe tbody tr th:only-of-type {\n",
       "        vertical-align: middle;\n",
       "    }\n",
       "\n",
       "    .dataframe tbody tr th {\n",
       "        vertical-align: top;\n",
       "    }\n",
       "\n",
       "    .dataframe thead th {\n",
       "        text-align: right;\n",
       "    }\n",
       "</style>\n",
       "<table border=\"1\" class=\"dataframe\">\n",
       "  <thead>\n",
       "    <tr style=\"text-align: right;\">\n",
       "      <th></th>\n",
       "      <th>ID</th>\n",
       "      <th>Name</th>\n",
       "      <th>Age</th>\n",
       "      <th>Scholarship</th>\n",
       "      <th>Class</th>\n",
       "      <th>CGPA 1</th>\n",
       "      <th>CGPA 2</th>\n",
       "      <th>Health</th>\n",
       "      <th>Attendance</th>\n",
       "      <th>EXA</th>\n",
       "      <th>ClassRemark</th>\n",
       "    </tr>\n",
       "  </thead>\n",
       "  <tbody>\n",
       "    <tr>\n",
       "      <th>0</th>\n",
       "      <td>48920</td>\n",
       "      <td>'Stephin K George'</td>\n",
       "      <td>20.0</td>\n",
       "      <td>No</td>\n",
       "      <td>BCA</td>\n",
       "      <td>0.790698</td>\n",
       "      <td>0.793478</td>\n",
       "      <td>None</td>\n",
       "      <td>Regular</td>\n",
       "      <td>Sports</td>\n",
       "      <td>Good</td>\n",
       "    </tr>\n",
       "    <tr>\n",
       "      <th>1</th>\n",
       "      <td>49193</td>\n",
       "      <td>'Pawni Mishra'</td>\n",
       "      <td>19.0</td>\n",
       "      <td>Yes</td>\n",
       "      <td>BCA</td>\n",
       "      <td>0.872093</td>\n",
       "      <td>0.869565</td>\n",
       "      <td>None</td>\n",
       "      <td>Private</td>\n",
       "      <td>Art</td>\n",
       "      <td>Excellent</td>\n",
       "    </tr>\n",
       "    <tr>\n",
       "      <th>2</th>\n",
       "      <td>48921</td>\n",
       "      <td>'Vikash Pandey '</td>\n",
       "      <td>21.0</td>\n",
       "      <td>No</td>\n",
       "      <td>BCA</td>\n",
       "      <td>0.744186</td>\n",
       "      <td>0.815217</td>\n",
       "      <td>None</td>\n",
       "      <td>Regular</td>\n",
       "      <td>Music</td>\n",
       "      <td>Good</td>\n",
       "    </tr>\n",
       "  </tbody>\n",
       "</table>\n",
       "</div>"
      ],
      "text/plain": [
       "      ID                Name   Age Scholarship Class    CGPA 1    CGPA 2  \\\n",
       "0  48920  'Stephin K George'  20.0          No   BCA  0.790698  0.793478   \n",
       "1  49193      'Pawni Mishra'  19.0         Yes   BCA  0.872093  0.869565   \n",
       "2  48921    'Vikash Pandey '  21.0          No   BCA  0.744186  0.815217   \n",
       "\n",
       "  Health Attendance     EXA ClassRemark  \n",
       "0   None    Regular  Sports        Good  \n",
       "1   None    Private     Art   Excellent  \n",
       "2   None    Regular   Music        Good  "
      ]
     },
     "execution_count": 54,
     "metadata": {},
     "output_type": "execute_result"
    }
   ],
   "source": [
    "data.head(3)"
   ]
  },
  {
   "cell_type": "code",
   "execution_count": 55,
   "id": "4841eaa0",
   "metadata": {},
   "outputs": [],
   "source": [
    "# spliting testing and training data "
   ]
  },
  {
   "cell_type": "code",
   "execution_count": 56,
   "id": "194cf522",
   "metadata": {},
   "outputs": [],
   "source": [
    "X = data[['CGPA 1','CGPA 2']]\n",
    "y = data[['CGPA 1','CGPA 2']]"
   ]
  },
  {
   "cell_type": "code",
   "execution_count": 57,
   "id": "5682090a",
   "metadata": {},
   "outputs": [
    {
     "data": {
      "text/html": [
       "<div>\n",
       "<style scoped>\n",
       "    .dataframe tbody tr th:only-of-type {\n",
       "        vertical-align: middle;\n",
       "    }\n",
       "\n",
       "    .dataframe tbody tr th {\n",
       "        vertical-align: top;\n",
       "    }\n",
       "\n",
       "    .dataframe thead th {\n",
       "        text-align: right;\n",
       "    }\n",
       "</style>\n",
       "<table border=\"1\" class=\"dataframe\">\n",
       "  <thead>\n",
       "    <tr style=\"text-align: right;\">\n",
       "      <th></th>\n",
       "      <th>CGPA 1</th>\n",
       "      <th>CGPA 2</th>\n",
       "    </tr>\n",
       "  </thead>\n",
       "  <tbody>\n",
       "    <tr>\n",
       "      <th>0</th>\n",
       "      <td>0.790698</td>\n",
       "      <td>0.793478</td>\n",
       "    </tr>\n",
       "    <tr>\n",
       "      <th>1</th>\n",
       "      <td>0.872093</td>\n",
       "      <td>0.869565</td>\n",
       "    </tr>\n",
       "    <tr>\n",
       "      <th>2</th>\n",
       "      <td>0.744186</td>\n",
       "      <td>0.815217</td>\n",
       "    </tr>\n",
       "  </tbody>\n",
       "</table>\n",
       "</div>"
      ],
      "text/plain": [
       "     CGPA 1    CGPA 2\n",
       "0  0.790698  0.793478\n",
       "1  0.872093  0.869565\n",
       "2  0.744186  0.815217"
      ]
     },
     "execution_count": 57,
     "metadata": {},
     "output_type": "execute_result"
    }
   ],
   "source": [
    "X.head(3)"
   ]
  },
  {
   "cell_type": "code",
   "execution_count": 58,
   "id": "03722aed",
   "metadata": {},
   "outputs": [
    {
     "data": {
      "text/html": [
       "<div>\n",
       "<style scoped>\n",
       "    .dataframe tbody tr th:only-of-type {\n",
       "        vertical-align: middle;\n",
       "    }\n",
       "\n",
       "    .dataframe tbody tr th {\n",
       "        vertical-align: top;\n",
       "    }\n",
       "\n",
       "    .dataframe thead th {\n",
       "        text-align: right;\n",
       "    }\n",
       "</style>\n",
       "<table border=\"1\" class=\"dataframe\">\n",
       "  <thead>\n",
       "    <tr style=\"text-align: right;\">\n",
       "      <th></th>\n",
       "      <th>CGPA 1</th>\n",
       "      <th>CGPA 2</th>\n",
       "    </tr>\n",
       "  </thead>\n",
       "  <tbody>\n",
       "    <tr>\n",
       "      <th>0</th>\n",
       "      <td>0.790698</td>\n",
       "      <td>0.793478</td>\n",
       "    </tr>\n",
       "    <tr>\n",
       "      <th>1</th>\n",
       "      <td>0.872093</td>\n",
       "      <td>0.869565</td>\n",
       "    </tr>\n",
       "    <tr>\n",
       "      <th>2</th>\n",
       "      <td>0.744186</td>\n",
       "      <td>0.815217</td>\n",
       "    </tr>\n",
       "  </tbody>\n",
       "</table>\n",
       "</div>"
      ],
      "text/plain": [
       "     CGPA 1    CGPA 2\n",
       "0  0.790698  0.793478\n",
       "1  0.872093  0.869565\n",
       "2  0.744186  0.815217"
      ]
     },
     "execution_count": 58,
     "metadata": {},
     "output_type": "execute_result"
    }
   ],
   "source": [
    "y.head(3)"
   ]
  },
  {
   "cell_type": "code",
   "execution_count": 59,
   "id": "d751e39a",
   "metadata": {},
   "outputs": [],
   "source": [
    "X_train, X_test, y_train, y_test = train_test_split(X, y, test_size=0.4)"
   ]
  },
  {
   "cell_type": "code",
   "execution_count": 60,
   "id": "5eebe45a",
   "metadata": {},
   "outputs": [
    {
     "data": {
      "text/html": [
       "<div>\n",
       "<style scoped>\n",
       "    .dataframe tbody tr th:only-of-type {\n",
       "        vertical-align: middle;\n",
       "    }\n",
       "\n",
       "    .dataframe tbody tr th {\n",
       "        vertical-align: top;\n",
       "    }\n",
       "\n",
       "    .dataframe thead th {\n",
       "        text-align: right;\n",
       "    }\n",
       "</style>\n",
       "<table border=\"1\" class=\"dataframe\">\n",
       "  <thead>\n",
       "    <tr style=\"text-align: right;\">\n",
       "      <th></th>\n",
       "      <th>CGPA 1</th>\n",
       "      <th>CGPA 2</th>\n",
       "    </tr>\n",
       "  </thead>\n",
       "  <tbody>\n",
       "    <tr>\n",
       "      <th>217</th>\n",
       "      <td>0.790698</td>\n",
       "      <td>0.695652</td>\n",
       "    </tr>\n",
       "    <tr>\n",
       "      <th>244</th>\n",
       "      <td>0.930233</td>\n",
       "      <td>0.815217</td>\n",
       "    </tr>\n",
       "    <tr>\n",
       "      <th>348</th>\n",
       "      <td>0.755814</td>\n",
       "      <td>0.739130</td>\n",
       "    </tr>\n",
       "    <tr>\n",
       "      <th>42</th>\n",
       "      <td>0.790698</td>\n",
       "      <td>0.760870</td>\n",
       "    </tr>\n",
       "    <tr>\n",
       "      <th>338</th>\n",
       "      <td>0.883721</td>\n",
       "      <td>0.706522</td>\n",
       "    </tr>\n",
       "  </tbody>\n",
       "</table>\n",
       "</div>"
      ],
      "text/plain": [
       "       CGPA 1    CGPA 2\n",
       "217  0.790698  0.695652\n",
       "244  0.930233  0.815217\n",
       "348  0.755814  0.739130\n",
       "42   0.790698  0.760870\n",
       "338  0.883721  0.706522"
      ]
     },
     "execution_count": 60,
     "metadata": {},
     "output_type": "execute_result"
    }
   ],
   "source": [
    "X_train.head()"
   ]
  },
  {
   "cell_type": "code",
   "execution_count": 61,
   "id": "49b55efd",
   "metadata": {},
   "outputs": [
    {
     "data": {
      "text/html": [
       "<div>\n",
       "<style scoped>\n",
       "    .dataframe tbody tr th:only-of-type {\n",
       "        vertical-align: middle;\n",
       "    }\n",
       "\n",
       "    .dataframe tbody tr th {\n",
       "        vertical-align: top;\n",
       "    }\n",
       "\n",
       "    .dataframe thead th {\n",
       "        text-align: right;\n",
       "    }\n",
       "</style>\n",
       "<table border=\"1\" class=\"dataframe\">\n",
       "  <thead>\n",
       "    <tr style=\"text-align: right;\">\n",
       "      <th></th>\n",
       "      <th>CGPA 1</th>\n",
       "      <th>CGPA 2</th>\n",
       "    </tr>\n",
       "  </thead>\n",
       "  <tbody>\n",
       "    <tr>\n",
       "      <th>217</th>\n",
       "      <td>0.790698</td>\n",
       "      <td>0.695652</td>\n",
       "    </tr>\n",
       "    <tr>\n",
       "      <th>244</th>\n",
       "      <td>0.930233</td>\n",
       "      <td>0.815217</td>\n",
       "    </tr>\n",
       "    <tr>\n",
       "      <th>348</th>\n",
       "      <td>0.755814</td>\n",
       "      <td>0.739130</td>\n",
       "    </tr>\n",
       "    <tr>\n",
       "      <th>42</th>\n",
       "      <td>0.790698</td>\n",
       "      <td>0.760870</td>\n",
       "    </tr>\n",
       "    <tr>\n",
       "      <th>338</th>\n",
       "      <td>0.883721</td>\n",
       "      <td>0.706522</td>\n",
       "    </tr>\n",
       "  </tbody>\n",
       "</table>\n",
       "</div>"
      ],
      "text/plain": [
       "       CGPA 1    CGPA 2\n",
       "217  0.790698  0.695652\n",
       "244  0.930233  0.815217\n",
       "348  0.755814  0.739130\n",
       "42   0.790698  0.760870\n",
       "338  0.883721  0.706522"
      ]
     },
     "execution_count": 61,
     "metadata": {},
     "output_type": "execute_result"
    }
   ],
   "source": [
    "y_train.head()"
   ]
  },
  {
   "cell_type": "code",
   "execution_count": 62,
   "id": "86b2aed3",
   "metadata": {},
   "outputs": [
    {
     "data": {
      "text/plain": [
       "246"
      ]
     },
     "execution_count": 62,
     "metadata": {},
     "output_type": "execute_result"
    }
   ],
   "source": [
    "len(X_train)"
   ]
  },
  {
   "cell_type": "code",
   "execution_count": 63,
   "id": "8a1f74fd",
   "metadata": {},
   "outputs": [
    {
     "data": {
      "text/plain": [
       "165"
      ]
     },
     "execution_count": 63,
     "metadata": {},
     "output_type": "execute_result"
    }
   ],
   "source": [
    "len(X_test)"
   ]
  },
  {
   "cell_type": "code",
   "execution_count": 64,
   "id": "90731327",
   "metadata": {},
   "outputs": [],
   "source": [
    "#model building Linear Regression ------------------->"
   ]
  },
  {
   "cell_type": "code",
   "execution_count": 65,
   "id": "58348273",
   "metadata": {},
   "outputs": [],
   "source": [
    "model = LinearRegression()"
   ]
  },
  {
   "cell_type": "code",
   "execution_count": 66,
   "id": "a3b6ca8e",
   "metadata": {},
   "outputs": [
    {
     "data": {
      "text/plain": [
       "LinearRegression()"
      ]
     },
     "execution_count": 66,
     "metadata": {},
     "output_type": "execute_result"
    }
   ],
   "source": [
    "model.fit(X_train, y_train)"
   ]
  },
  {
   "cell_type": "code",
   "execution_count": 67,
   "id": "840d8e8e",
   "metadata": {},
   "outputs": [
    {
     "data": {
      "text/plain": [
       "array([[0.80232558, 0.7826087 ],\n",
       "       [0.6744186 , 0.68478261],\n",
       "       [0.76744186, 0.73913043],\n",
       "       [0.87209302, 0.73913043],\n",
       "       [0.73255814, 0.65217391],\n",
       "       [0.68604651, 0.67391304],\n",
       "       [0.87209302, 0.72826087],\n",
       "       [0.63953488, 0.61956522],\n",
       "       [0.75581395, 0.68478261],\n",
       "       [0.98837209, 0.73913043],\n",
       "       [0.73255814, 0.75      ],\n",
       "       [0.68604651, 0.70652174],\n",
       "       [0.72093023, 0.68478261],\n",
       "       [0.58139535, 0.69565217],\n",
       "       [0.75581395, 0.70652174],\n",
       "       [0.87209302, 0.81521739],\n",
       "       [0.79069767, 0.7826087 ],\n",
       "       [0.73255814, 0.75      ],\n",
       "       [0.79069767, 0.7826087 ],\n",
       "       [0.65116279, 0.68478261],\n",
       "       [0.6744186 , 0.65217391],\n",
       "       [0.75581395, 0.73913043],\n",
       "       [0.88372093, 0.81521739],\n",
       "       [0.80232558, 0.77173913],\n",
       "       [0.79069767, 0.82608696],\n",
       "       [0.80232558, 0.79347826],\n",
       "       [0.74418605, 0.73913043],\n",
       "       [0.74418605, 0.80434783],\n",
       "       [0.80232558, 0.77173913],\n",
       "       [0.8372093 , 0.75      ],\n",
       "       [0.73255814, 0.70652174],\n",
       "       [0.6744186 , 0.69565217],\n",
       "       [0.79069767, 0.7826087 ],\n",
       "       [0.68604651, 0.67391304],\n",
       "       [0.72093023, 0.63043478],\n",
       "       [0.81395349, 0.75      ],\n",
       "       [0.95348837, 0.92391304],\n",
       "       [0.69767442, 0.69565217],\n",
       "       [0.80232558, 0.79347826],\n",
       "       [0.72093023, 0.90217391],\n",
       "       [0.87209302, 0.84782609],\n",
       "       [0.69767442, 0.76086957],\n",
       "       [0.74418605, 0.73913043],\n",
       "       [0.87209302, 0.89130435],\n",
       "       [0.79069767, 0.77173913],\n",
       "       [0.87209302, 0.68478261],\n",
       "       [0.77906977, 0.82608696],\n",
       "       [0.91860465, 0.64130435],\n",
       "       [0.58139535, 0.65217391],\n",
       "       [0.88372093, 0.81521739],\n",
       "       [0.69767442, 0.81521739],\n",
       "       [0.68604651, 0.67391304],\n",
       "       [0.75581395, 0.68478261],\n",
       "       [0.88372093, 0.84782609],\n",
       "       [0.88372093, 0.84782609],\n",
       "       [0.87209302, 0.85869565],\n",
       "       [0.80232558, 0.79347826],\n",
       "       [0.88372093, 0.84782609],\n",
       "       [0.96511628, 0.9673913 ],\n",
       "       [0.93023256, 0.60869565],\n",
       "       [0.75581395, 0.75      ],\n",
       "       [0.90697674, 0.68478261],\n",
       "       [0.96511628, 0.92391304],\n",
       "       [0.75581395, 0.58695652],\n",
       "       [0.86046512, 0.75      ],\n",
       "       [0.74418605, 0.65217391],\n",
       "       [0.91860465, 0.82608696],\n",
       "       [0.65116279, 0.65217391],\n",
       "       [0.91860465, 0.68478261],\n",
       "       [0.79069767, 0.70652174],\n",
       "       [0.68604651, 0.75      ],\n",
       "       [0.98837209, 0.82608696],\n",
       "       [0.68604651, 0.66304348],\n",
       "       [0.79069767, 0.79347826],\n",
       "       [0.75581395, 0.73913043],\n",
       "       [0.80232558, 0.82608696],\n",
       "       [0.72093023, 0.75      ],\n",
       "       [0.68604651, 0.67391304],\n",
       "       [0.8255814 , 0.89130435],\n",
       "       [0.73255814, 0.70652174],\n",
       "       [0.91860465, 0.92391304],\n",
       "       [0.80232558, 0.79347826],\n",
       "       [0.6744186 , 0.75      ],\n",
       "       [0.98837209, 1.        ],\n",
       "       [0.72093023, 0.89130435],\n",
       "       [0.80232558, 0.73913043],\n",
       "       [0.80232558, 0.79347826],\n",
       "       [0.80232558, 0.73913043],\n",
       "       [0.73255814, 0.79347826],\n",
       "       [0.75581395, 0.73913043],\n",
       "       [0.88372093, 0.90217391],\n",
       "       [0.58139535, 0.64130435],\n",
       "       [0.69767442, 0.72826087],\n",
       "       [0.68604651, 0.67391304],\n",
       "       [0.97674419, 0.65217391],\n",
       "       [0.6744186 , 0.64130435],\n",
       "       [0.93023256, 0.82608696],\n",
       "       [0.58139535, 0.58695652],\n",
       "       [0.80232558, 0.77173913],\n",
       "       [0.96511628, 0.65217391],\n",
       "       [0.68604651, 0.67391304],\n",
       "       [0.68604651, 0.75      ],\n",
       "       [0.61627907, 0.64130435],\n",
       "       [0.73255814, 0.77173913],\n",
       "       [0.79069767, 0.76086957],\n",
       "       [0.90697674, 0.70652174],\n",
       "       [0.53488372, 0.58695652],\n",
       "       [0.68604651, 0.66304348],\n",
       "       [0.73255814, 0.93478261],\n",
       "       [0.65116279, 0.60869565],\n",
       "       [0.8255814 , 0.7826087 ],\n",
       "       [0.87209302, 0.84782609],\n",
       "       [0.80232558, 0.70652174],\n",
       "       [0.68604651, 0.70652174],\n",
       "       [0.73255814, 0.75      ],\n",
       "       [0.79069767, 0.77173913],\n",
       "       [0.96511628, 0.73913043],\n",
       "       [0.79069767, 0.7826087 ],\n",
       "       [0.80232558, 0.79347826],\n",
       "       [0.68604651, 0.59782609],\n",
       "       [0.80232558, 0.81521739],\n",
       "       [0.87209302, 0.92391304],\n",
       "       [0.75581395, 0.75      ],\n",
       "       [0.75581395, 0.68478261],\n",
       "       [0.80232558, 0.70652174],\n",
       "       [0.75581395, 0.85869565],\n",
       "       [0.80232558, 0.73913043],\n",
       "       [0.80232558, 0.70652174],\n",
       "       [0.73255814, 0.70652174],\n",
       "       [0.75581395, 0.68478261],\n",
       "       [0.75581395, 0.82608696],\n",
       "       [0.72093023, 0.93478261],\n",
       "       [0.93023256, 0.73913043],\n",
       "       [0.80232558, 0.82608696],\n",
       "       [0.73255814, 0.66304348],\n",
       "       [0.73255814, 0.70652174],\n",
       "       [0.74418605, 0.76086957],\n",
       "       [0.72093023, 0.92391304],\n",
       "       [0.91860465, 0.90217391],\n",
       "       [0.65116279, 0.65217391],\n",
       "       [0.80232558, 0.81521739],\n",
       "       [0.80232558, 0.81521739],\n",
       "       [0.69767442, 0.7826087 ],\n",
       "       [0.46511628, 0.65217391],\n",
       "       [0.79069767, 0.7826087 ],\n",
       "       [0.77906977, 0.72826087],\n",
       "       [0.6744186 , 0.75      ],\n",
       "       [0.87209302, 0.65217391],\n",
       "       [0.80232558, 0.79347826],\n",
       "       [0.73255814, 0.79347826],\n",
       "       [0.91860465, 0.70652174],\n",
       "       [0.91860465, 0.75      ],\n",
       "       [0.79069767, 0.80434783],\n",
       "       [0.88372093, 0.81521739],\n",
       "       [0.87209302, 0.81521739],\n",
       "       [0.81395349, 0.82608696],\n",
       "       [0.72093023, 0.93478261],\n",
       "       [0.91860465, 0.90217391],\n",
       "       [0.79069767, 0.75      ],\n",
       "       [0.69767442, 0.65217391],\n",
       "       [0.79069767, 0.68478261],\n",
       "       [0.79069767, 0.75      ],\n",
       "       [0.6744186 , 0.70652174],\n",
       "       [0.80232558, 0.75      ],\n",
       "       [0.93023256, 0.92391304]])"
      ]
     },
     "execution_count": 67,
     "metadata": {},
     "output_type": "execute_result"
    }
   ],
   "source": [
    "prediction = model.predict(X_test)\n",
    "prediction"
   ]
  },
  {
   "cell_type": "code",
   "execution_count": 68,
   "id": "0296aff3",
   "metadata": {
    "scrolled": true
   },
   "outputs": [
    {
     "data": {
      "text/html": [
       "<div>\n",
       "<style scoped>\n",
       "    .dataframe tbody tr th:only-of-type {\n",
       "        vertical-align: middle;\n",
       "    }\n",
       "\n",
       "    .dataframe tbody tr th {\n",
       "        vertical-align: top;\n",
       "    }\n",
       "\n",
       "    .dataframe thead th {\n",
       "        text-align: right;\n",
       "    }\n",
       "</style>\n",
       "<table border=\"1\" class=\"dataframe\">\n",
       "  <thead>\n",
       "    <tr style=\"text-align: right;\">\n",
       "      <th></th>\n",
       "      <th>CGPA 1</th>\n",
       "      <th>CGPA 2</th>\n",
       "    </tr>\n",
       "  </thead>\n",
       "  <tbody>\n",
       "    <tr>\n",
       "      <th>67</th>\n",
       "      <td>0.802326</td>\n",
       "      <td>0.782609</td>\n",
       "    </tr>\n",
       "    <tr>\n",
       "      <th>130</th>\n",
       "      <td>0.674419</td>\n",
       "      <td>0.684783</td>\n",
       "    </tr>\n",
       "    <tr>\n",
       "      <th>330</th>\n",
       "      <td>0.767442</td>\n",
       "      <td>0.739130</td>\n",
       "    </tr>\n",
       "    <tr>\n",
       "      <th>451</th>\n",
       "      <td>0.872093</td>\n",
       "      <td>0.739130</td>\n",
       "    </tr>\n",
       "    <tr>\n",
       "      <th>134</th>\n",
       "      <td>0.732558</td>\n",
       "      <td>0.652174</td>\n",
       "    </tr>\n",
       "    <tr>\n",
       "      <th>...</th>\n",
       "      <td>...</td>\n",
       "      <td>...</td>\n",
       "    </tr>\n",
       "    <tr>\n",
       "      <th>349</th>\n",
       "      <td>0.790698</td>\n",
       "      <td>0.684783</td>\n",
       "    </tr>\n",
       "    <tr>\n",
       "      <th>129</th>\n",
       "      <td>0.790698</td>\n",
       "      <td>0.750000</td>\n",
       "    </tr>\n",
       "    <tr>\n",
       "      <th>227</th>\n",
       "      <td>0.674419</td>\n",
       "      <td>0.706522</td>\n",
       "    </tr>\n",
       "    <tr>\n",
       "      <th>180</th>\n",
       "      <td>0.802326</td>\n",
       "      <td>0.750000</td>\n",
       "    </tr>\n",
       "    <tr>\n",
       "      <th>336</th>\n",
       "      <td>0.930233</td>\n",
       "      <td>0.923913</td>\n",
       "    </tr>\n",
       "  </tbody>\n",
       "</table>\n",
       "<p>165 rows × 2 columns</p>\n",
       "</div>"
      ],
      "text/plain": [
       "       CGPA 1    CGPA 2\n",
       "67   0.802326  0.782609\n",
       "130  0.674419  0.684783\n",
       "330  0.767442  0.739130\n",
       "451  0.872093  0.739130\n",
       "134  0.732558  0.652174\n",
       "..        ...       ...\n",
       "349  0.790698  0.684783\n",
       "129  0.790698  0.750000\n",
       "227  0.674419  0.706522\n",
       "180  0.802326  0.750000\n",
       "336  0.930233  0.923913\n",
       "\n",
       "[165 rows x 2 columns]"
      ]
     },
     "execution_count": 68,
     "metadata": {},
     "output_type": "execute_result"
    }
   ],
   "source": [
    "y_test"
   ]
  },
  {
   "cell_type": "code",
   "execution_count": 69,
   "id": "8e70811c",
   "metadata": {},
   "outputs": [
    {
     "data": {
      "text/plain": [
       "1.0"
      ]
     },
     "execution_count": 69,
     "metadata": {},
     "output_type": "execute_result"
    }
   ],
   "source": [
    "model.score(X_test,y_test) #to check Accuracy of the model "
   ]
  },
  {
   "cell_type": "code",
   "execution_count": 70,
   "id": "40844135",
   "metadata": {},
   "outputs": [
    {
     "name": "stdout",
     "output_type": "stream",
     "text": [
      "Intercept: [-1.11022302e-16  1.11022302e-16]\n",
      "Coefficients: [[ 1.00000000e+00 -1.30113655e-16]\n",
      " [ 0.00000000e+00  1.00000000e+00]]\n"
     ]
    }
   ],
   "source": [
    "print(\"Intercept:\", model.intercept_)\n",
    "print(\"Coefficients:\", model.coef_)"
   ]
  },
  {
   "cell_type": "code",
   "execution_count": 71,
   "id": "d5444c75",
   "metadata": {},
   "outputs": [
    {
     "data": {
      "text/html": [
       "<div>\n",
       "<style scoped>\n",
       "    .dataframe tbody tr th:only-of-type {\n",
       "        vertical-align: middle;\n",
       "    }\n",
       "\n",
       "    .dataframe tbody tr th {\n",
       "        vertical-align: top;\n",
       "    }\n",
       "\n",
       "    .dataframe thead th {\n",
       "        text-align: right;\n",
       "    }\n",
       "</style>\n",
       "<table border=\"1\" class=\"dataframe\">\n",
       "  <thead>\n",
       "    <tr style=\"text-align: right;\">\n",
       "      <th></th>\n",
       "      <th>ID</th>\n",
       "      <th>Name</th>\n",
       "      <th>Age</th>\n",
       "      <th>Scholarship</th>\n",
       "      <th>Class</th>\n",
       "      <th>CGPA 1</th>\n",
       "      <th>CGPA 2</th>\n",
       "      <th>Health</th>\n",
       "      <th>Attendance</th>\n",
       "      <th>EXA</th>\n",
       "      <th>ClassRemark</th>\n",
       "    </tr>\n",
       "  </thead>\n",
       "  <tbody>\n",
       "    <tr>\n",
       "      <th>0</th>\n",
       "      <td>48920</td>\n",
       "      <td>'Stephin K George'</td>\n",
       "      <td>20.0</td>\n",
       "      <td>No</td>\n",
       "      <td>BCA</td>\n",
       "      <td>0.790698</td>\n",
       "      <td>0.793478</td>\n",
       "      <td>None</td>\n",
       "      <td>Regular</td>\n",
       "      <td>Sports</td>\n",
       "      <td>Good</td>\n",
       "    </tr>\n",
       "    <tr>\n",
       "      <th>1</th>\n",
       "      <td>49193</td>\n",
       "      <td>'Pawni Mishra'</td>\n",
       "      <td>19.0</td>\n",
       "      <td>Yes</td>\n",
       "      <td>BCA</td>\n",
       "      <td>0.872093</td>\n",
       "      <td>0.869565</td>\n",
       "      <td>None</td>\n",
       "      <td>Private</td>\n",
       "      <td>Art</td>\n",
       "      <td>Excellent</td>\n",
       "    </tr>\n",
       "  </tbody>\n",
       "</table>\n",
       "</div>"
      ],
      "text/plain": [
       "      ID                Name   Age Scholarship Class    CGPA 1    CGPA 2  \\\n",
       "0  48920  'Stephin K George'  20.0          No   BCA  0.790698  0.793478   \n",
       "1  49193      'Pawni Mishra'  19.0         Yes   BCA  0.872093  0.869565   \n",
       "\n",
       "  Health Attendance     EXA ClassRemark  \n",
       "0   None    Regular  Sports        Good  \n",
       "1   None    Private     Art   Excellent  "
      ]
     },
     "execution_count": 71,
     "metadata": {},
     "output_type": "execute_result"
    }
   ],
   "source": [
    "data.head(2)"
   ]
  },
  {
   "cell_type": "code",
   "execution_count": 72,
   "id": "3fd05f19",
   "metadata": {},
   "outputs": [],
   "source": [
    "#Decision Tree------------------------------->\n"
   ]
  },
  {
   "cell_type": "code",
   "execution_count": 94,
   "id": "89711620",
   "metadata": {},
   "outputs": [],
   "source": [
    "X = data.drop('ClassRemark', axis=1)  # Features\n",
    "y = data['ClassRemark']  # Target variable\n",
    "\n",
    "X_train, X_test, y_train, y_test = train_test_split(X, y, test_size=0.4)\n"
   ]
  },
  {
   "cell_type": "code",
   "execution_count": 74,
   "id": "fc7e9d3e",
   "metadata": {},
   "outputs": [
    {
     "data": {
      "text/plain": [
       "0           Good\n",
       "1      Excellent\n",
       "2           Good\n",
       "3        Average\n",
       "4           Good\n",
       "         ...    \n",
       "456         Good\n",
       "457         Good\n",
       "458         Good\n",
       "459    Excellent\n",
       "460         Good\n",
       "Name: ClassRemark, Length: 411, dtype: object"
      ]
     },
     "execution_count": 74,
     "metadata": {},
     "output_type": "execute_result"
    }
   ],
   "source": [
    "y"
   ]
  },
  {
   "cell_type": "code",
   "execution_count": 75,
   "id": "0dead3ce",
   "metadata": {},
   "outputs": [
    {
     "data": {
      "text/plain": [
       "ID               int64\n",
       "Name            object\n",
       "Age            float64\n",
       "Scholarship     object\n",
       "Class           object\n",
       "CGPA 1         float64\n",
       "CGPA 2         float64\n",
       "Health          object\n",
       "Attendance      object\n",
       "EXA             object\n",
       "ClassRemark     object\n",
       "dtype: object"
      ]
     },
     "execution_count": 75,
     "metadata": {},
     "output_type": "execute_result"
    }
   ],
   "source": [
    "data.dtypes"
   ]
  },
  {
   "cell_type": "code",
   "execution_count": 76,
   "id": "56e29cf0",
   "metadata": {},
   "outputs": [
    {
     "data": {
      "text/html": [
       "<div>\n",
       "<style scoped>\n",
       "    .dataframe tbody tr th:only-of-type {\n",
       "        vertical-align: middle;\n",
       "    }\n",
       "\n",
       "    .dataframe tbody tr th {\n",
       "        vertical-align: top;\n",
       "    }\n",
       "\n",
       "    .dataframe thead th {\n",
       "        text-align: right;\n",
       "    }\n",
       "</style>\n",
       "<table border=\"1\" class=\"dataframe\">\n",
       "  <thead>\n",
       "    <tr style=\"text-align: right;\">\n",
       "      <th></th>\n",
       "      <th>ID</th>\n",
       "      <th>Name</th>\n",
       "      <th>Age</th>\n",
       "      <th>Scholarship</th>\n",
       "      <th>Class</th>\n",
       "      <th>CGPA 1</th>\n",
       "      <th>CGPA 2</th>\n",
       "      <th>Health</th>\n",
       "      <th>Attendance</th>\n",
       "      <th>EXA</th>\n",
       "      <th>ClassRemark</th>\n",
       "    </tr>\n",
       "  </thead>\n",
       "  <tbody>\n",
       "    <tr>\n",
       "      <th>0</th>\n",
       "      <td>48920</td>\n",
       "      <td>'Stephin K George'</td>\n",
       "      <td>20.0</td>\n",
       "      <td>No</td>\n",
       "      <td>BCA</td>\n",
       "      <td>0.790698</td>\n",
       "      <td>0.793478</td>\n",
       "      <td>None</td>\n",
       "      <td>Regular</td>\n",
       "      <td>Sports</td>\n",
       "      <td>Good</td>\n",
       "    </tr>\n",
       "    <tr>\n",
       "      <th>1</th>\n",
       "      <td>49193</td>\n",
       "      <td>'Pawni Mishra'</td>\n",
       "      <td>19.0</td>\n",
       "      <td>Yes</td>\n",
       "      <td>BCA</td>\n",
       "      <td>0.872093</td>\n",
       "      <td>0.869565</td>\n",
       "      <td>None</td>\n",
       "      <td>Private</td>\n",
       "      <td>Art</td>\n",
       "      <td>Excellent</td>\n",
       "    </tr>\n",
       "    <tr>\n",
       "      <th>2</th>\n",
       "      <td>48921</td>\n",
       "      <td>'Vikash Pandey '</td>\n",
       "      <td>21.0</td>\n",
       "      <td>No</td>\n",
       "      <td>BCA</td>\n",
       "      <td>0.744186</td>\n",
       "      <td>0.815217</td>\n",
       "      <td>None</td>\n",
       "      <td>Regular</td>\n",
       "      <td>Music</td>\n",
       "      <td>Good</td>\n",
       "    </tr>\n",
       "  </tbody>\n",
       "</table>\n",
       "</div>"
      ],
      "text/plain": [
       "      ID                Name   Age Scholarship Class    CGPA 1    CGPA 2  \\\n",
       "0  48920  'Stephin K George'  20.0          No   BCA  0.790698  0.793478   \n",
       "1  49193      'Pawni Mishra'  19.0         Yes   BCA  0.872093  0.869565   \n",
       "2  48921    'Vikash Pandey '  21.0          No   BCA  0.744186  0.815217   \n",
       "\n",
       "  Health Attendance     EXA ClassRemark  \n",
       "0   None    Regular  Sports        Good  \n",
       "1   None    Private     Art   Excellent  \n",
       "2   None    Regular   Music        Good  "
      ]
     },
     "execution_count": 76,
     "metadata": {},
     "output_type": "execute_result"
    }
   ],
   "source": [
    "data.head(3)"
   ]
  },
  {
   "cell_type": "code",
   "execution_count": 85,
   "id": "807fcf6b",
   "metadata": {},
   "outputs": [],
   "source": [
    "#data.drop(columns=['EXA'],inplace=True)"
   ]
  },
  {
   "cell_type": "code",
   "execution_count": 86,
   "id": "6fbd4e4e",
   "metadata": {},
   "outputs": [],
   "source": [
    "#data.drop(columns=['Class'],inplace=True)"
   ]
  },
  {
   "cell_type": "code",
   "execution_count": 87,
   "id": "0628e5cd",
   "metadata": {},
   "outputs": [],
   "source": [
    "#data.drop(columns=['Name'],inplace=True)"
   ]
  },
  {
   "cell_type": "code",
   "execution_count": 88,
   "id": "f4ab8bf7",
   "metadata": {},
   "outputs": [],
   "source": [
    "#data.drop(columns=['Scholarship'],inplace=True)"
   ]
  },
  {
   "cell_type": "code",
   "execution_count": 89,
   "id": "8e50f420",
   "metadata": {},
   "outputs": [],
   "source": [
    "#data.drop(columns=['Health'],inplace=True)"
   ]
  },
  {
   "cell_type": "code",
   "execution_count": 91,
   "id": "1ab0d1ef",
   "metadata": {},
   "outputs": [],
   "source": [
    "#data.drop(columns=['Attendance'],inplace=True)"
   ]
  },
  {
   "cell_type": "code",
   "execution_count": 95,
   "id": "4f63d797",
   "metadata": {},
   "outputs": [
    {
     "data": {
      "text/plain": [
       "DecisionTreeClassifier()"
      ]
     },
     "execution_count": 95,
     "metadata": {},
     "output_type": "execute_result"
    }
   ],
   "source": [
    "model = DecisionTreeClassifier()\n",
    "model"
   ]
  },
  {
   "cell_type": "code",
   "execution_count": 96,
   "id": "06f2c336",
   "metadata": {},
   "outputs": [
    {
     "data": {
      "text/plain": [
       "DecisionTreeClassifier()"
      ]
     },
     "execution_count": 96,
     "metadata": {},
     "output_type": "execute_result"
    }
   ],
   "source": [
    "model.fit(X_train, y_train)"
   ]
  },
  {
   "cell_type": "code",
   "execution_count": 97,
   "id": "e53470fe",
   "metadata": {},
   "outputs": [
    {
     "data": {
      "text/plain": [
       "array(['Average', 'Average', 'Good', 'Good', 'Good', 'Average', 'Good',\n",
       "       'Average', 'Average', 'Good', 'Average', 'Average', 'Excellent',\n",
       "       'Average', 'Good', 'Good', 'Good', 'Average', 'Average', 'Good',\n",
       "       'Good', 'Good', 'Average', 'Average', 'Average', 'Average',\n",
       "       'Excellent', 'Excellent', 'Average', 'Average', 'Good', 'Good',\n",
       "       'Average', 'Excellent', 'Excellent', 'Good', 'Good', 'Good',\n",
       "       'Good', 'Good', 'Good', 'Good', 'Average', 'Average', 'Excellent',\n",
       "       'Good', 'Average', 'Excellent', 'Good', 'Good', 'Good', 'Average',\n",
       "       'Average', 'Average', 'Good', 'Average', 'Average', 'Average',\n",
       "       'Good', 'Good', 'Average', 'Average', 'Average', 'Average', 'Good',\n",
       "       'Good', 'Good', 'Average', 'Average', 'Good', 'Good', 'Good',\n",
       "       'Good', 'Good', 'Good', 'Average', 'Average', 'Good', 'Good',\n",
       "       'Average', 'Good', 'Average', 'Average', 'Average', 'Good',\n",
       "       'Average', 'Good', 'Good', 'Average', 'Average', 'Excellent',\n",
       "       'Good', 'Excellent', 'Average', 'Good', 'Average', 'Average',\n",
       "       'Good', 'Good', 'Average', 'Average', 'Good', 'Excellent', 'Good',\n",
       "       'Average', 'Excellent', 'Average', 'Good', 'Good', 'Good', 'Good',\n",
       "       'Average', 'Average', 'Excellent', 'Good', 'Average', 'Average',\n",
       "       'Average', 'Good', 'Average', 'Average', 'Good', 'Excellent',\n",
       "       'Average', 'Good', 'Good', 'Excellent', 'Average', 'Good', 'Good',\n",
       "       'Good', 'Average', 'Good', 'Good', 'Good', 'Good', 'Average',\n",
       "       'Good', 'Average', 'Good', 'Average', 'Average', 'Good', 'Good',\n",
       "       'Average', 'Average', 'Excellent', 'Good', 'Good', 'Good', 'Good',\n",
       "       'Good', 'Average', 'Good', 'Average', 'Good', 'Average', 'Average',\n",
       "       'Excellent', 'Good', 'Good', 'Average', 'Good', 'Average',\n",
       "       'Average'], dtype=object)"
      ]
     },
     "execution_count": 97,
     "metadata": {},
     "output_type": "execute_result"
    }
   ],
   "source": [
    "predictions = model.predict(X_test)\n",
    "predictions"
   ]
  },
  {
   "cell_type": "code",
   "execution_count": 98,
   "id": "305e15ca",
   "metadata": {},
   "outputs": [
    {
     "name": "stdout",
     "output_type": "stream",
     "text": [
      "Accuracy: 0.9696969696969697\n",
      "\n",
      "Classification Report:\n",
      "               precision    recall  f1-score   support\n",
      "\n",
      "     Average       0.96      0.97      0.96        70\n",
      "   Excellent       1.00      0.94      0.97        17\n",
      "        Good       0.97      0.97      0.97        78\n",
      "\n",
      "    accuracy                           0.97       165\n",
      "   macro avg       0.98      0.96      0.97       165\n",
      "weighted avg       0.97      0.97      0.97       165\n",
      "\n"
     ]
    }
   ],
   "source": [
    "print(\"Accuracy:\", accuracy_score(y_test, predictions))   #to get accuracy \n",
    "print(\"\\nClassification Report:\\n\", classification_report(y_test, predictions))\n"
   ]
  },
  {
   "cell_type": "code",
   "execution_count": 99,
   "id": "520b79d4",
   "metadata": {},
   "outputs": [],
   "source": [
    "from sklearn import tree\n",
    "model=tree.DecisionTreeClassifier(random_state=0)\n",
    "model=model.fit(X_train, y_train)\n"
   ]
  },
  {
   "cell_type": "code",
   "execution_count": 100,
   "id": "87e37e57",
   "metadata": {},
   "outputs": [
    {
     "data": {
      "text/plain": [
       "[Text(0.47368421052631576, 0.9285714285714286, 'X[3] <= 0.723\\ngini = 0.567\\nsamples = 246\\nvalue = [98, 21, 127]'),\n",
       " Text(0.21052631578947367, 0.7857142857142857, 'X[2] <= 0.948\\ngini = 0.16\\nsamples = 105\\nvalue = [96, 3, 6]'),\n",
       " Text(0.10526315789473684, 0.6428571428571429, 'X[0] <= 10682.5\\ngini = 0.059\\nsamples = 98\\nvalue = [95, 0, 3]'),\n",
       " Text(0.05263157894736842, 0.5, 'gini = 0.0\\nsamples = 1\\nvalue = [0, 0, 1]'),\n",
       " Text(0.15789473684210525, 0.5, 'X[2] <= 0.895\\ngini = 0.04\\nsamples = 97\\nvalue = [95, 0, 2]'),\n",
       " Text(0.10526315789473684, 0.35714285714285715, 'gini = 0.0\\nsamples = 89\\nvalue = [89, 0, 0]'),\n",
       " Text(0.21052631578947367, 0.35714285714285715, 'X[3] <= 0.69\\ngini = 0.375\\nsamples = 8\\nvalue = [6, 0, 2]'),\n",
       " Text(0.15789473684210525, 0.21428571428571427, 'X[1] <= 20.5\\ngini = 0.5\\nsamples = 4\\nvalue = [2, 0, 2]'),\n",
       " Text(0.10526315789473684, 0.07142857142857142, 'gini = 0.0\\nsamples = 2\\nvalue = [2, 0, 0]'),\n",
       " Text(0.21052631578947367, 0.07142857142857142, 'gini = 0.0\\nsamples = 2\\nvalue = [0, 0, 2]'),\n",
       " Text(0.2631578947368421, 0.21428571428571427, 'gini = 0.0\\nsamples = 4\\nvalue = [4, 0, 0]'),\n",
       " Text(0.3157894736842105, 0.6428571428571429, 'X[3] <= 0.658\\ngini = 0.612\\nsamples = 7\\nvalue = [1, 3, 3]'),\n",
       " Text(0.2631578947368421, 0.5, 'gini = 0.0\\nsamples = 3\\nvalue = [0, 3, 0]'),\n",
       " Text(0.3684210526315789, 0.5, 'X[3] <= 0.674\\ngini = 0.375\\nsamples = 4\\nvalue = [1, 0, 3]'),\n",
       " Text(0.3157894736842105, 0.35714285714285715, 'gini = 0.0\\nsamples = 1\\nvalue = [1, 0, 0]'),\n",
       " Text(0.42105263157894735, 0.35714285714285715, 'gini = 0.0\\nsamples = 3\\nvalue = [0, 0, 3]'),\n",
       " Text(0.7368421052631579, 0.7857142857142857, 'X[3] <= 0.864\\ngini = 0.247\\nsamples = 141\\nvalue = [2, 18, 121]'),\n",
       " Text(0.631578947368421, 0.6428571428571429, 'X[2] <= 0.703\\ngini = 0.016\\nsamples = 122\\nvalue = [1, 0, 121]'),\n",
       " Text(0.5789473684210527, 0.5, 'X[1] <= 21.5\\ngini = 0.18\\nsamples = 10\\nvalue = [1, 0, 9]'),\n",
       " Text(0.5263157894736842, 0.35714285714285715, 'gini = 0.0\\nsamples = 8\\nvalue = [0, 0, 8]'),\n",
       " Text(0.631578947368421, 0.35714285714285715, 'X[0] <= 37954.5\\ngini = 0.5\\nsamples = 2\\nvalue = [1, 0, 1]'),\n",
       " Text(0.5789473684210527, 0.21428571428571427, 'gini = 0.0\\nsamples = 1\\nvalue = [1, 0, 0]'),\n",
       " Text(0.6842105263157895, 0.21428571428571427, 'gini = 0.0\\nsamples = 1\\nvalue = [0, 0, 1]'),\n",
       " Text(0.6842105263157895, 0.5, 'gini = 0.0\\nsamples = 112\\nvalue = [0, 0, 112]'),\n",
       " Text(0.8421052631578947, 0.6428571428571429, 'X[1] <= 21.5\\ngini = 0.1\\nsamples = 19\\nvalue = [1, 18, 0]'),\n",
       " Text(0.7894736842105263, 0.5, 'gini = 0.0\\nsamples = 16\\nvalue = [0, 16, 0]'),\n",
       " Text(0.8947368421052632, 0.5, 'X[2] <= 0.884\\ngini = 0.444\\nsamples = 3\\nvalue = [1, 2, 0]'),\n",
       " Text(0.8421052631578947, 0.35714285714285715, 'gini = 0.0\\nsamples = 2\\nvalue = [0, 2, 0]'),\n",
       " Text(0.9473684210526315, 0.35714285714285715, 'gini = 0.0\\nsamples = 1\\nvalue = [1, 0, 0]')]"
      ]
     },
     "execution_count": 100,
     "metadata": {},
     "output_type": "execute_result"
    },
    {
     "data": {
      "image/png": "[encoded data removed]",
      "text/plain": [
       "<Figure size 1080x720 with 1 Axes>"
      ]
     },
     "metadata": {},
     "output_type": "display_data"
    }
   ],
   "source": [
    "plt.figure(figsize=(15,10))\n",
    "tree.plot_tree(model,filled=True)"
   ]
  },
  {
   "cell_type": "code",
   "execution_count": 101,
   "id": "20891131",
   "metadata": {},
   "outputs": [
    {
     "name": "stdout",
     "output_type": "stream",
     "text": [
      "|--- feature_3 <= 0.72\n",
      "|   |--- feature_2 <= 0.95\n",
      "|   |   |--- feature_0 <= 10682.50\n",
      "|   |   |   |--- class: Good\n",
      "|   |   |--- feature_0 >  10682.50\n",
      "|   |   |   |--- feature_2 <= 0.90\n",
      "|   |   |   |   |--- class: Average\n",
      "|   |   |   |--- feature_2 >  0.90\n",
      "|   |   |   |   |--- feature_3 <= 0.69\n",
      "|   |   |   |   |   |--- feature_1 <= 20.50\n",
      "|   |   |   |   |   |   |--- class: Average\n",
      "|   |   |   |   |   |--- feature_1 >  20.50\n",
      "|   |   |   |   |   |   |--- class: Good\n",
      "|   |   |   |   |--- feature_3 >  0.69\n",
      "|   |   |   |   |   |--- class: Average\n",
      "|   |--- feature_2 >  0.95\n",
      "|   |   |--- feature_3 <= 0.66\n",
      "|   |   |   |--- class: Excellent\n",
      "|   |   |--- feature_3 >  0.66\n",
      "|   |   |   |--- feature_3 <= 0.67\n",
      "|   |   |   |   |--- class: Average\n",
      "|   |   |   |--- feature_3 >  0.67\n",
      "|   |   |   |   |--- class: Good\n",
      "|--- feature_3 >  0.72\n",
      "|   |--- feature_3 <= 0.86\n",
      "|   |   |--- feature_2 <= 0.70\n",
      "|   |   |   |--- feature_1 <= 21.50\n",
      "|   |   |   |   |--- class: Good\n",
      "|   |   |   |--- feature_1 >  21.50\n",
      "|   |   |   |   |--- feature_0 <= 37954.50\n",
      "|   |   |   |   |   |--- class: Average\n",
      "|   |   |   |   |--- feature_0 >  37954.50\n",
      "|   |   |   |   |   |--- class: Good\n",
      "|   |   |--- feature_2 >  0.70\n",
      "|   |   |   |--- class: Good\n",
      "|   |--- feature_3 >  0.86\n",
      "|   |   |--- feature_1 <= 21.50\n",
      "|   |   |   |--- class: Excellent\n",
      "|   |   |--- feature_1 >  21.50\n",
      "|   |   |   |--- feature_2 <= 0.88\n",
      "|   |   |   |   |--- class: Excellent\n",
      "|   |   |   |--- feature_2 >  0.88\n",
      "|   |   |   |   |--- class: Average\n",
      "\n"
     ]
    }
   ],
   "source": [
    "print(tree.export_text(model))"
   ]
  },
  {
   "cell_type": "code",
   "execution_count": 102,
   "id": "c8294889",
   "metadata": {},
   "outputs": [],
   "source": [
    "#support vector machine ------------------------>"
   ]
  },
  {
   "cell_type": "code",
   "execution_count": 104,
   "id": "1e39c2d4",
   "metadata": {},
   "outputs": [],
   "source": [
    "X_train, X_test, y_train, y_test = train_test_split(X, y, test_size=0.4, random_state=42)\n"
   ]
  },
  {
   "cell_type": "code",
   "execution_count": 106,
   "id": "97d7a535",
   "metadata": {},
   "outputs": [
    {
     "data": {
      "text/plain": [
       "SVC(kernel='linear')"
      ]
     },
     "execution_count": 106,
     "metadata": {},
     "output_type": "execute_result"
    }
   ],
   "source": [
    "# Model Training\n",
    "svm_model = SVC(kernel='linear', C=1.0)\n",
    "svm_model.fit(X_train, y_train)"
   ]
  },
  {
   "cell_type": "code",
   "execution_count": 107,
   "id": "627bafd1",
   "metadata": {},
   "outputs": [
    {
     "name": "stdout",
     "output_type": "stream",
     "text": [
      "Accuracy: 0.4484848484848485\n"
     ]
    }
   ],
   "source": [
    "# Model Evaluation\n",
    "y_pred = svm_model.predict(X_test)\n",
    "accuracy = accuracy_score(y_test, y_pred)\n",
    "print(\"Accuracy:\", accuracy)"
   ]
  },
  {
   "cell_type": "code",
   "execution_count": null,
   "id": "40046584",
   "metadata": {},
   "outputs": [],
   "source": []
  }
 ],
 "metadata": {
  "kernelspec": {
   "display_name": "Python 3 (ipykernel)",
   "language": "python",
   "name": "python3"
  },
  "language_info": {
   "codemirror_mode": {
    "name": "ipython",
    "version": 3
   },
   "file_extension": ".py",
   "mimetype": "text/x-python",
   "name": "python",
   "nbconvert_exporter": "python",
   "pygments_lexer": "ipython3",
   "version": "3.9.12"
  }
 },
 "nbformat": 4,
 "nbformat_minor": 5
}
